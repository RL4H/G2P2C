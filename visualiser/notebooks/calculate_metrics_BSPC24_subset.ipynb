{
 "cells": [
  {
   "cell_type": "markdown",
   "id": "74f521ab",
   "metadata": {},
   "source": [
    "This Notebook is used to calculate the summary statistics for both clinical and RL-algorithms.\n",
    "\n",
    "For RL algorithms: <br>\n",
    "The results for experiments will be saved under \"results/FOLDER_ID/AlgoSub_SEED\".<br>\n",
    "e.g., 'results/adult/G0_1'; G2P2C algorithm for adult subject 0 and seed 1."
   ]
  },
  {
   "cell_type": "code",
   "execution_count": 63,
   "id": "dfd2e100",
   "metadata": {
    "ExecuteTime": {
     "end_time": "2024-09-24T13:31:03.643099Z",
     "start_time": "2024-09-24T13:31:03.636090Z"
    }
   },
   "outputs": [],
   "source": [
    "import os \n",
    "import sys \n",
    "from decouple import config \n",
    "MAIN_PATH = 'C:/Users/davet/Desktop/Thesis/G2P2C/'\n",
    "sys.path.insert(1, MAIN_PATH)\n",
    "from visualiser.core import experiment_error_check\n",
    "from visualiser.statistics import get_summary_stats, compare_algorithms\n",
    "\n",
    "# First we quickly check and verify that the RL experiments have properly completed based on the \n",
    "# general template/guidelines used. You can customise additional parameters, check func \"experiment_error_check\".\n",
    "# experiment_error_check(cohort=\"adolescent\", algorithm='PPO', algoAbbreviation='P', subjects=['0', '2', '6'])\n",
    "result_path = {'TD3_1':'results/Revised_PER_Study/Rank_26/TD3/alpha_1/beta_0',#'results/PER_Study/Per_Proportional/TD3/alpha_075/beta_0/',\n",
    "               'TD3_2':'results/Revised_PER_Study/Rank_26/TD3/alpha_1/beta_025/',\n",
    "               'TD3_3':'results/Revised_PER_Study/Rank_26/TD3/alpha_1/beta_05/',\n",
    "               'TD3_4':'results/Revised_PER_Study/Rank_26/TD3/alpha_1/beta_075/',\n",
    "               'TD3_5':'results/Revised_PER_Study/Rank_26/TD3/alpha_1/beta_1/',\n",
    "               }\n",
    "\n",
    "\n",
    "# # Best Results\n",
    "# result_path = {'TD3_1':'results/Revised_PER_Study/Per_Rank/TD3/alpha_025/beta_05',#'results/PER_Study/Per_Proportional/TD3/alpha_075/beta_0/',\n",
    "#                'TD3_2':'results/Revised_PER_Study/Per_Rank/TD3/alpha_025/beta_05/',\n",
    "#                'TD3_3':'results/PER_Study/Per_Rank/TD3/alpha_025/beta_05/',\n",
    "#                'TD3_4':'results/Revised_PER_Study/Per_Rank/TD3/alpha_025/beta_05/',\n",
    "#                'TD3_5':'results/Revised_PER_Study/Per_Rank/TD3/alpha_025/beta_05/',\n",
    "#                'TD3_6':'results/Revised_PER_Study/Per_Rank/TD3/alpha_025/beta_05/',\n",
    "#                'TD3_7':'results/PER_Study/Per_Rank_6/',\n",
    "#                'TD3_8':'results/Revised_PER_Study/Per_Rank/TD3/alpha_025/beta_05/',\n",
    "#                'TD3_9':'results/Revised_PER_Study/Per_Rank/TD3/alpha_025/beta_05/',\n",
    "#                'TD3_10':'results/Revised_PER_Study/Per_Rank/TD3/alpha_025/beta_05/',\n",
    "#                'BBI' : 'results/adolescent/BBI',\n",
    "#                'BBHE' : 'results/adolescent/BBHE',\n",
    "#                'TD3' : 'results/Best_Models/Best_Final_TD3',\n",
    "#                }"
   ]
  },
  {
   "cell_type": "markdown",
   "id": "06bc35a1",
   "metadata": {},
   "source": [
    "We calculate statistics (individual/cohort-levels) for identified clinical and RL metrics.\n",
    "Target_metrics are time in normoglycemia (TIR), hypoglycemia, hyperglycemia, severe hypoglycemia, Severe hyperglycemia, LBGI (Low Blood Glucose Index), HBGI (High Blood Glucose Index), RI (Risk Index), Failure Rate, Reward."
   ]
  },
  {
   "cell_type": "code",
   "execution_count": 64,
   "id": "010ecd42",
   "metadata": {
    "scrolled": false,
    "ExecuteTime": {
     "end_time": "2024-09-24T13:32:23.044919Z",
     "start_time": "2024-09-24T13:31:04.952324Z"
    }
   },
   "outputs": [
    {
     "name": "stdout",
     "output_type": "stream",
     "text": [
      "\n",
      "Summary statistics for adolescent cohort, TD3_1 Algorithm\n",
      "\n",
      "Summarised cohort statistics (mean):\n",
      "    normo  hypo  hyper  S_hypo  S_hyper  lgbi   hgbi    ri  reward   fail\n",
      "id                                                                       \n",
      "26   26.5   0.0  20.24     0.0    53.26  0.07  33.22  33.3  132.93  66.47\n",
      "\n",
      "Averaged cohort statistics:\n",
      "      normo  hypo  hyper  S_hypo  S_hyper  lgbi   hgbi     ri  reward   fail\n",
      "25%   23.67  0.00  13.74     0.0    46.18  0.00  23.58  23.84   64.13  66.47\n",
      "50%   26.74  0.00  21.18     0.0    54.76  0.00  34.41  34.41  111.05  66.47\n",
      "75%   29.36  0.00  25.62     0.0    59.09  0.01  41.30  41.30  222.61  66.47\n",
      "mean  26.50  0.00  20.24     0.0    53.26  0.07  33.22  33.30  132.93  66.47\n",
      "std    3.83  0.04   6.96     0.0     6.67  0.25   8.10   8.03   67.19  66.47\n",
      "\n",
      "Summary statistics for adolescent cohort, TD3_2 Algorithm\n",
      "\n",
      "Summarised cohort statistics (mean):\n",
      "    normo  hypo  hyper  S_hypo  S_hyper  lgbi   hgbi     ri  reward   fail\n",
      "id                                                                        \n",
      "26  47.22  4.56  17.76    3.37    27.09  8.63  16.21  24.83  156.32  61.93\n",
      "\n",
      "Averaged cohort statistics:\n",
      "      normo  hypo  hyper  S_hypo  S_hyper   lgbi   hgbi     ri  reward   fail\n",
      "25%   25.49  1.31   0.00    0.69     0.00   4.95   1.04   8.28  111.93  61.93\n",
      "50%   33.76  2.78  14.67    2.37    27.43   7.58  16.57  28.45  158.65  61.93\n",
      "75%   78.29  5.86  32.99    5.03    48.35  12.36  28.44  35.89  201.12  61.93\n",
      "mean  47.22  4.56  17.76    3.37    27.09   8.63  16.21  24.83  156.32  61.93\n",
      "std   26.84  4.90  16.34    3.37    22.75   5.01  12.52  14.37   55.32  61.93\n",
      "\n",
      "Summary statistics for adolescent cohort, TD3_3 Algorithm\n",
      "\n",
      "Summarised cohort statistics (mean):\n",
      "    normo  hypo  hyper  S_hypo  S_hyper  lgbi   hgbi     ri  reward   fail\n",
      "id                                                                        \n",
      "26   49.6  5.57  16.76    5.03    23.04  7.36  17.59  24.95  131.91  85.67\n",
      "\n",
      "Averaged cohort statistics:\n",
      "      normo   hypo  hyper  S_hypo  S_hyper   lgbi   hgbi     ri  reward   fail\n",
      "25%   30.91   0.00   9.69    0.00     0.00   0.00   4.61  14.68   89.02  85.67\n",
      "50%   50.47   3.51  16.32    2.88    10.97   8.70   9.59  22.81   95.49  85.67\n",
      "75%   64.53  10.00  24.31    7.65    53.32  12.02  37.38  37.70  179.53  85.67\n",
      "mean  49.60   5.57  16.76    5.03    23.04   7.36  17.59  24.95  131.91  85.67\n",
      "std   18.52   6.30  11.70    6.15    23.68   5.83  15.59  11.38   71.87  85.67\n",
      "\n",
      "Summary statistics for adolescent cohort, TD3_4 Algorithm\n",
      "\n",
      "Summarised cohort statistics (mean):\n",
      "    normo  hypo  hyper  S_hypo  S_hyper   lgbi  hgbi     ri  reward  fail\n",
      "id                                                                       \n",
      "26  60.05  1.99  25.34    2.19    10.43  11.12  9.24  20.36  166.85  79.4\n",
      "\n",
      "Averaged cohort statistics:\n",
      "      normo  hypo  hyper  S_hypo  S_hyper   lgbi   hgbi     ri  reward  fail\n",
      "25%   54.59  0.71  20.39    1.39     6.12   6.96   7.54  16.01  114.18  79.4\n",
      "50%   59.85  1.39  25.00    1.96    10.79  12.38   8.55  21.30  162.87  79.4\n",
      "75%   64.58  2.30  29.76    2.76    13.79  15.23  10.91  24.59  188.74  79.4\n",
      "mean  60.05  1.99  25.34    2.19    10.43  11.12   9.24  20.36  166.85  79.4\n",
      "std    7.11  2.19   6.93    1.73     6.66   5.23   2.19   5.82   58.19  79.4\n",
      "\n",
      "Summary statistics for adolescent cohort, TD3_5 Algorithm\n",
      "\n",
      "Summarised cohort statistics (mean):\n",
      "    normo  hypo  hyper  S_hypo  S_hyper  lgbi  hgbi    ri  reward   fail\n",
      "id                                                                      \n",
      "26  77.54  5.12  10.72    3.39     3.23  4.54  3.88  8.42  196.63  50.93\n",
      "\n",
      "Averaged cohort statistics:\n",
      "      normo  hypo  hyper  S_hypo  S_hyper  lgbi  hgbi    ri  reward   fail\n",
      "25%   65.97  0.00   0.00    0.00     0.00  0.46  1.03  6.70  127.18  50.93\n",
      "50%   79.75  3.15   4.09    2.74     0.00  4.87  2.29  7.95  214.01  50.93\n",
      "75%   86.93  9.09  23.26    5.40     6.25  6.60  7.33  9.73  268.05  50.93\n",
      "mean  77.54  5.12  10.72    3.39     3.23  4.54  3.88  8.42  196.63  50.93\n",
      "std   11.75  5.52  12.23    3.50     5.19  3.65  3.45  2.76   79.26  50.93\n"
     ]
    }
   ],
   "source": [
    "# metrics and stats for RL agents and clinical, for a selected algorthm.\n",
    "# Check parameters to get more information being calculated.\n",
    "# Normal flow in the calculation: \n",
    "# For each subject, looking at 1500 simulations we calculate the metrics, you can get inter-quartile, mean, std etc.\n",
    "# Using the mean for each metric we calculate cohort level metrics and statistics \n",
    "    \n",
    "# get_summary_stats(cohort=\"adolescent\", algo_type='rl', algorithm='G2P2C', algoAbbreviation='G', \n",
    "#                   metric=['50%', '25%', '75%','mean', 'std'], \n",
    "#                   verbose=False, show_res=True, sort=[False, 'hgbi'],\n",
    "#                   subjects=['0', '2', '6'])\n",
    "# \n",
    "# get_summary_stats(cohort=\"adolescent\", algo_type='clinical', algorithm='BBI', algoAbbreviation='BBI', \n",
    "#                   metric=['50%', '25%', '75%','mean', 'std'], \n",
    "#                   verbose=False, show_res=True, sort=[False, 'hgbi'],\n",
    "#                   subjects=['0', '2', '6'])\n",
    "# patient = '0'\n",
    "# patient = '2'\n",
    "patient = '26'\n",
    "# patients = ['0']\n",
    "\n",
    "# patients = [str(i) for i in range(0,6)]\n",
    "\n",
    "#Multi result settings on single patient\n",
    "# i=0\n",
    "# for patient in patients:\n",
    "#     get_summary_stats(cohort=\"adolescent\", algo_type='rl', algorithm='TD3_'+str(i+1), algoAbbreviation='TD3', \n",
    "#                       metric=['25%', '50%', '75%','mean', 'std'], \n",
    "#                       verbose=False, show_res=True, sort=[False, 'hgbi'],\n",
    "#                       # subjects=['0', '2', '6'],\n",
    "#                       subjects=[patient],\n",
    "#                       result_path=result_path)\n",
    "#     i+=1\n",
    "    \n",
    "#Multi Patients\n",
    "# for patient in patients:\n",
    "#     get_summary_stats(cohort=\"adult\", algo_type='rl', algorithm='TD3_1', algoAbbreviation='TD3', \n",
    "#                       metric=['25%', '50%', '75%','mean', 'std'], \n",
    "#                       verbose=False, show_res=True, sort=[False, 'hgbi'],\n",
    "#                       # subjects=['0', '2', '6'],\n",
    "#                       subjects=[patient],\n",
    "#                       result_path=result_path)\n",
    "\n",
    "#BBI\n",
    "for i in range(1,6):\n",
    "    get_summary_stats(cohort=\"adolescent\", algo_type='rl', algorithm='TD3_'+str(i), algoAbbreviation='TD3', \n",
    "                      metric=['25%', '50%', '75%','mean', 'std'], \n",
    "                      verbose=False, show_res=True, sort=[False, 'hgbi'],\n",
    "                      # subjects=['0', '2', '6'],\n",
    "                      subjects=[patient],\n",
    "                      result_path=result_path)\n",
    "\n",
    "# for pat in [patient]:\n",
    "#     get_summary_stats(cohort=\"adolescent\", algo_type='rl', algorithm='TD3'+pat, algoAbbreviation='TD3', \n",
    "#                   metric=['25%', '50%', '75%','mean', 'std'], \n",
    "#                   verbose=False, show_res=True, sort=[False, 'hgbi'],\n",
    "#                   # subjects=['0', '2', '6'],\n",
    "#                   subjects=[pat],\n",
    "#                   result_path=result_path)\n",
    "# get_summary_stats(cohort=\"adolescent\", algo_type='rl', algorithm='PPO_1', algoAbbreviation='P', \n",
    "#                   metric=['25%', '50%', '75%','mean', 'std'], \n",
    "#                   verbose=False, show_res=True, sort=[False, 'hgbi'],\n",
    "#                   # subjects=['0', '2', '6'],\n",
    "#                   subjects=[patient],\n",
    "#                   result_path=result_path)\n",
    "# print(\"=\"*100)\n",
    "# get_summary_stats(cohort=\"adolescent\", algo_type='rl', algorithm='PPO_2', algoAbbreviation='P', \n",
    "#                   metric=['25%', '50%', '75%','mean', 'std'], \n",
    "#                   verbose=False, show_res=True, sort=[False, 'hgbi'],\n",
    "#                   # subjects=['0', '2', '6'],\n",
    "#                   subjects=[patient],\n",
    "#                   result_path=result_path)\n",
    "# print(\"=\"*100)\n",
    "# get_summary_stats(cohort=\"adolescent\", algo_type='rl', algorithm='PPO_3', algoAbbreviation='P', \n",
    "#                   metric=['25%', '50%', '75%','mean', 'std'], \n",
    "#                   verbose=False, show_res=True, sort=[False, 'hgbi'],\n",
    "#                   # subjects=['0', '2', '6'],\n",
    "#                   subjects=[patient],\n",
    "#                   result_path=result_path)\n",
    "\n",
    "\n"
   ]
  },
  {
   "cell_type": "code",
   "outputs": [],
   "source": [],
   "metadata": {
    "collapsed": false
   },
   "id": "85c426ed0d3382b0"
  },
  {
   "cell_type": "code",
   "execution_count": 31,
   "id": "9a41397f",
   "metadata": {
    "ExecuteTime": {
     "end_time": "2024-07-11T02:34:10.487695Z",
     "start_time": "2024-07-11T02:33:27.532251Z"
    }
   },
   "outputs": [
    {
     "name": "stdout",
     "output_type": "stream",
     "text": [
      "\n",
      "Compare algorithm performance for the adolescent cohort\n",
      "      normo  hypo  hyper  S_hypo  S_hyper  lgbi   hgbi     ri  reward    fail\n",
      "Algo                                                                         \n",
      "TD1   24.96  0.00  24.16    0.00    50.89  0.04  33.85  33.89  111.62  100.00\n",
      "TD2   24.96  0.00  24.16    0.00    50.89  0.04  33.85  33.89  111.62  100.00\n",
      "TD3   35.22  0.72  22.50    0.39    41.17  1.56  27.94  29.50  141.27   83.89\n"
     ]
    },
    {
     "data": {
      "text/plain": "      normo  hypo  hyper  S_hypo  S_hyper  lgbi   hgbi     ri  reward    fail\nAlgo                                                                         \nTD1   24.96  0.00  24.16    0.00    50.89  0.04  33.85  33.89  111.62  100.00\nTD2   24.96  0.00  24.16    0.00    50.89  0.04  33.85  33.89  111.62  100.00\nTD3   35.22  0.72  22.50    0.39    41.17  1.56  27.94  29.50  141.27   83.89",
      "text/html": "<div>\n<style scoped>\n    .dataframe tbody tr th:only-of-type {\n        vertical-align: middle;\n    }\n\n    .dataframe tbody tr th {\n        vertical-align: top;\n    }\n\n    .dataframe thead th {\n        text-align: right;\n    }\n</style>\n<table border=\"1\" class=\"dataframe\">\n  <thead>\n    <tr style=\"text-align: right;\">\n      <th></th>\n      <th>normo</th>\n      <th>hypo</th>\n      <th>hyper</th>\n      <th>S_hypo</th>\n      <th>S_hyper</th>\n      <th>lgbi</th>\n      <th>hgbi</th>\n      <th>ri</th>\n      <th>reward</th>\n      <th>fail</th>\n    </tr>\n    <tr>\n      <th>Algo</th>\n      <th></th>\n      <th></th>\n      <th></th>\n      <th></th>\n      <th></th>\n      <th></th>\n      <th></th>\n      <th></th>\n      <th></th>\n      <th></th>\n    </tr>\n  </thead>\n  <tbody>\n    <tr>\n      <th>TD1</th>\n      <td>24.96</td>\n      <td>0.00</td>\n      <td>24.16</td>\n      <td>0.00</td>\n      <td>50.89</td>\n      <td>0.04</td>\n      <td>33.85</td>\n      <td>33.89</td>\n      <td>111.62</td>\n      <td>100.00</td>\n    </tr>\n    <tr>\n      <th>TD2</th>\n      <td>24.96</td>\n      <td>0.00</td>\n      <td>24.16</td>\n      <td>0.00</td>\n      <td>50.89</td>\n      <td>0.04</td>\n      <td>33.85</td>\n      <td>33.89</td>\n      <td>111.62</td>\n      <td>100.00</td>\n    </tr>\n    <tr>\n      <th>TD3</th>\n      <td>35.22</td>\n      <td>0.72</td>\n      <td>22.50</td>\n      <td>0.39</td>\n      <td>41.17</td>\n      <td>1.56</td>\n      <td>27.94</td>\n      <td>29.50</td>\n      <td>141.27</td>\n      <td>83.89</td>\n    </tr>\n  </tbody>\n</table>\n</div>"
     },
     "execution_count": 31,
     "metadata": {},
     "output_type": "execute_result"
    }
   ],
   "source": [
    "# Adolescents\n",
    "compare_algorithms(cohort=\"adolescent\", \n",
    "                   algo_types= ['rl', 'rl', 'rl', 'rl'],\n",
    "                   algos=['DDPG1', 'DDPG2', 'DDPG3'], \n",
    "                   abbreviations=['DDPG', 'DDPG', 'DDPG'],\n",
    "                   subjects=['0', '2', '6'],\n",
    "                   result_path=result_path)"
   ]
  },
  {
   "cell_type": "code",
   "execution_count": null,
   "id": "076b5f73",
   "metadata": {},
   "outputs": [],
   "source": []
  }
 ],
 "metadata": {
  "kernelspec": {
   "display_name": "Python 3 (ipykernel)",
   "language": "python",
   "name": "python3"
  },
  "language_info": {
   "codemirror_mode": {
    "name": "ipython",
    "version": 3
   },
   "file_extension": ".py",
   "mimetype": "text/x-python",
   "name": "python",
   "nbconvert_exporter": "python",
   "pygments_lexer": "ipython3",
   "version": "3.10.12"
  }
 },
 "nbformat": 4,
 "nbformat_minor": 5
}
