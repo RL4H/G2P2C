{
 "cells": [
  {
   "cell_type": "markdown",
   "id": "74f521ab",
   "metadata": {},
   "source": [
    "This Notebook is used to calculate the summary statistics for both clinical and RL-algorithms.\n",
    "\n",
    "For RL algorithms: <br>\n",
    "The results for experiments will be saved under \"results/FOLDER_ID/AlgoSub_SEED\".<br>\n",
    "e.g., 'results/adult/G0_1'; G2P2C algorithm for adult subject 0 and seed 1."
   ]
  },
  {
   "cell_type": "code",
   "execution_count": 32,
   "id": "dfd2e100",
   "metadata": {
    "ExecuteTime": {
     "end_time": "2024-07-11T02:39:58.720543Z",
     "start_time": "2024-07-11T02:39:58.703041Z"
    }
   },
   "outputs": [],
   "source": [
    "import os \n",
    "import sys \n",
    "from decouple import config \n",
    "MAIN_PATH = 'C:/Users/davet/Desktop/Thesis/G2P2C/'\n",
    "sys.path.insert(1, MAIN_PATH)\n",
    "from visualiser.core import experiment_error_check\n",
    "from visualiser.statistics import get_summary_stats, compare_algorithms\n",
    "\n",
    "# First we quickly check and verify that the RL experiments have properly completed based on the \n",
    "# general template/guidelines used. You can customise additional parameters, check func \"experiment_error_check\".\n",
    "# experiment_error_check(cohort=\"adolescent\", algorithm='PPO', algoAbbreviation='P', subjects=['0', '2', '6'])\n",
    "result_path = {'DDPG1':'results/Experiment1 - No BatchNorm or Penalty/std1e0',\n",
    "               'DDPG2':'results/Experiment1 - No BatchNorm or Penalty//std2e-1',\n",
    "               'DDPG3':'results/Experiment1 - No BatchNorm or Penalty//std5e-2'}"
   ]
  },
  {
   "cell_type": "markdown",
   "id": "06bc35a1",
   "metadata": {},
   "source": [
    "We calculate statistics (individual/cohort-levels) for identified clinical and RL metrics.\n",
    "Target_metrics are time in normoglycemia (TIR), hypoglycemia, hyperglycemia, severe hypoglycemia, Severe hyperglycemia, LBGI (Low Blood Glucose Index), HBGI (High Blood Glucose Index), RI (Risk Index), Failure Rate, Reward."
   ]
  },
  {
   "cell_type": "code",
   "execution_count": 33,
   "id": "010ecd42",
   "metadata": {
    "scrolled": false,
    "ExecuteTime": {
     "end_time": "2024-07-11T02:40:00.549860Z",
     "start_time": "2024-07-11T02:40:00.517856Z"
    }
   },
   "outputs": [
    {
     "name": "stdout",
     "output_type": "stream",
     "text": [
      "\n",
      "Summary statistics for adolescent cohort, DDPG1 Algorithm\n"
     ]
    },
    {
     "ename": "FileNotFoundError",
     "evalue": "[Errno 2] No such file or directory: 'C:/Users/davet/Desktop/Thesis/G2P2C/results/Experiment1 - No BatchNorm or Penalty/std1e0/DDPG0_1/testing/data/logs_worker_6000.csv'",
     "output_type": "error",
     "traceback": [
      "\u001B[1;31m---------------------------------------------------------------------------\u001B[0m",
      "\u001B[1;31mFileNotFoundError\u001B[0m                         Traceback (most recent call last)",
      "\u001B[1;32m~\\AppData\\Local\\Temp/ipykernel_14112/1686204614.py\u001B[0m in \u001B[0;36m<module>\u001B[1;34m\u001B[0m\n\u001B[0;32m     15\u001B[0m \u001B[1;31m#                   subjects=['0', '2', '6'])\u001B[0m\u001B[1;33m\u001B[0m\u001B[1;33m\u001B[0m\u001B[0m\n\u001B[0;32m     16\u001B[0m \u001B[1;33m\u001B[0m\u001B[0m\n\u001B[1;32m---> 17\u001B[1;33m get_summary_stats(cohort=\"adolescent\", algo_type='rl', algorithm='DDPG1', algoAbbreviation='DDPG', \n\u001B[0m\u001B[0;32m     18\u001B[0m                   \u001B[0mmetric\u001B[0m\u001B[1;33m=\u001B[0m\u001B[1;33m[\u001B[0m\u001B[1;34m'25%'\u001B[0m\u001B[1;33m,\u001B[0m \u001B[1;34m'50%'\u001B[0m\u001B[1;33m,\u001B[0m \u001B[1;34m'75%'\u001B[0m\u001B[1;33m,\u001B[0m\u001B[1;34m'mean'\u001B[0m\u001B[1;33m,\u001B[0m \u001B[1;34m'std'\u001B[0m\u001B[1;33m]\u001B[0m\u001B[1;33m,\u001B[0m\u001B[1;33m\u001B[0m\u001B[1;33m\u001B[0m\u001B[0m\n\u001B[0;32m     19\u001B[0m                   \u001B[0mverbose\u001B[0m\u001B[1;33m=\u001B[0m\u001B[1;32mFalse\u001B[0m\u001B[1;33m,\u001B[0m \u001B[0mshow_res\u001B[0m\u001B[1;33m=\u001B[0m\u001B[1;32mTrue\u001B[0m\u001B[1;33m,\u001B[0m \u001B[0msort\u001B[0m\u001B[1;33m=\u001B[0m\u001B[1;33m[\u001B[0m\u001B[1;32mFalse\u001B[0m\u001B[1;33m,\u001B[0m \u001B[1;34m'hgbi'\u001B[0m\u001B[1;33m]\u001B[0m\u001B[1;33m,\u001B[0m\u001B[1;33m\u001B[0m\u001B[1;33m\u001B[0m\u001B[0m\n",
      "\u001B[1;32mC:\\Users/davet/Desktop/Thesis/G2P2C\\visualiser\\statistics.py\u001B[0m in \u001B[0;36mget_summary_stats\u001B[1;34m(cohort, algo_type, algorithm, algoAbbreviation, metric, verbose, show_res, sort, subjects, seeds, n_trials, result_path)\u001B[0m\n\u001B[0;32m    108\u001B[0m                 \u001B[1;32mif\u001B[0m \u001B[0malgo_type\u001B[0m \u001B[1;33m==\u001B[0m \u001B[1;34m'rl'\u001B[0m\u001B[1;33m:\u001B[0m\u001B[1;33m\u001B[0m\u001B[1;33m\u001B[0m\u001B[0m\n\u001B[0;32m    109\u001B[0m                     \u001B[0mtest_i\u001B[0m \u001B[1;33m=\u001B[0m \u001B[1;34m'logs_worker_'\u001B[0m\u001B[1;33m+\u001B[0m\u001B[0mstr\u001B[0m\u001B[1;33m(\u001B[0m\u001B[1;36m6000\u001B[0m\u001B[1;33m+\u001B[0m\u001B[0mi\u001B[0m\u001B[1;33m)\u001B[0m\u001B[1;33m+\u001B[0m\u001B[1;34m'.csv'\u001B[0m\u001B[1;33m\u001B[0m\u001B[1;33m\u001B[0m\u001B[0m\n\u001B[1;32m--> 110\u001B[1;33m                     \u001B[0mdf\u001B[0m \u001B[1;33m=\u001B[0m \u001B[0mpd\u001B[0m\u001B[1;33m.\u001B[0m\u001B[0mread_csv\u001B[0m\u001B[1;33m(\u001B[0m\u001B[0mMAIN_PATH\u001B[0m \u001B[1;33m+\u001B[0m\u001B[0mFOLDER_PATH\u001B[0m\u001B[1;33m+\u001B[0m \u001B[1;34m'/'\u001B[0m\u001B[1;33m+\u001B[0m\u001B[0mtest_i\u001B[0m\u001B[1;33m)\u001B[0m\u001B[1;33m\u001B[0m\u001B[1;33m\u001B[0m\u001B[0m\n\u001B[0m\u001B[0;32m    111\u001B[0m                 \u001B[1;32melse\u001B[0m\u001B[1;33m:\u001B[0m\u001B[1;33m\u001B[0m\u001B[1;33m\u001B[0m\u001B[0m\n\u001B[0;32m    112\u001B[0m                     \u001B[1;32mif\u001B[0m \u001B[0mcohort\u001B[0m \u001B[1;33m==\u001B[0m \u001B[1;34m'adolescent'\u001B[0m\u001B[1;33m:\u001B[0m\u001B[1;33m\u001B[0m\u001B[1;33m\u001B[0m\u001B[0m\n",
      "\u001B[1;32m~\\Desktop\\Thesis\\G2P2C\\venv\\lib\\site-packages\\pandas\\util\\_decorators.py\u001B[0m in \u001B[0;36mwrapper\u001B[1;34m(*args, **kwargs)\u001B[0m\n\u001B[0;32m    309\u001B[0m                     \u001B[0mstacklevel\u001B[0m\u001B[1;33m=\u001B[0m\u001B[0mstacklevel\u001B[0m\u001B[1;33m,\u001B[0m\u001B[1;33m\u001B[0m\u001B[1;33m\u001B[0m\u001B[0m\n\u001B[0;32m    310\u001B[0m                 )\n\u001B[1;32m--> 311\u001B[1;33m             \u001B[1;32mreturn\u001B[0m \u001B[0mfunc\u001B[0m\u001B[1;33m(\u001B[0m\u001B[1;33m*\u001B[0m\u001B[0margs\u001B[0m\u001B[1;33m,\u001B[0m \u001B[1;33m**\u001B[0m\u001B[0mkwargs\u001B[0m\u001B[1;33m)\u001B[0m\u001B[1;33m\u001B[0m\u001B[1;33m\u001B[0m\u001B[0m\n\u001B[0m\u001B[0;32m    312\u001B[0m \u001B[1;33m\u001B[0m\u001B[0m\n\u001B[0;32m    313\u001B[0m         \u001B[1;32mreturn\u001B[0m \u001B[0mwrapper\u001B[0m\u001B[1;33m\u001B[0m\u001B[1;33m\u001B[0m\u001B[0m\n",
      "\u001B[1;32m~\\Desktop\\Thesis\\G2P2C\\venv\\lib\\site-packages\\pandas\\io\\parsers\\readers.py\u001B[0m in \u001B[0;36mread_csv\u001B[1;34m(filepath_or_buffer, sep, delimiter, header, names, index_col, usecols, squeeze, prefix, mangle_dupe_cols, dtype, engine, converters, true_values, false_values, skipinitialspace, skiprows, skipfooter, nrows, na_values, keep_default_na, na_filter, verbose, skip_blank_lines, parse_dates, infer_datetime_format, keep_date_col, date_parser, dayfirst, cache_dates, iterator, chunksize, compression, thousands, decimal, lineterminator, quotechar, quoting, doublequote, escapechar, comment, encoding, encoding_errors, dialect, error_bad_lines, warn_bad_lines, on_bad_lines, delim_whitespace, low_memory, memory_map, float_precision, storage_options)\u001B[0m\n\u001B[0;32m    584\u001B[0m     \u001B[0mkwds\u001B[0m\u001B[1;33m.\u001B[0m\u001B[0mupdate\u001B[0m\u001B[1;33m(\u001B[0m\u001B[0mkwds_defaults\u001B[0m\u001B[1;33m)\u001B[0m\u001B[1;33m\u001B[0m\u001B[1;33m\u001B[0m\u001B[0m\n\u001B[0;32m    585\u001B[0m \u001B[1;33m\u001B[0m\u001B[0m\n\u001B[1;32m--> 586\u001B[1;33m     \u001B[1;32mreturn\u001B[0m \u001B[0m_read\u001B[0m\u001B[1;33m(\u001B[0m\u001B[0mfilepath_or_buffer\u001B[0m\u001B[1;33m,\u001B[0m \u001B[0mkwds\u001B[0m\u001B[1;33m)\u001B[0m\u001B[1;33m\u001B[0m\u001B[1;33m\u001B[0m\u001B[0m\n\u001B[0m\u001B[0;32m    587\u001B[0m \u001B[1;33m\u001B[0m\u001B[0m\n\u001B[0;32m    588\u001B[0m \u001B[1;33m\u001B[0m\u001B[0m\n",
      "\u001B[1;32m~\\Desktop\\Thesis\\G2P2C\\venv\\lib\\site-packages\\pandas\\io\\parsers\\readers.py\u001B[0m in \u001B[0;36m_read\u001B[1;34m(filepath_or_buffer, kwds)\u001B[0m\n\u001B[0;32m    480\u001B[0m \u001B[1;33m\u001B[0m\u001B[0m\n\u001B[0;32m    481\u001B[0m     \u001B[1;31m# Create the parser.\u001B[0m\u001B[1;33m\u001B[0m\u001B[1;33m\u001B[0m\u001B[0m\n\u001B[1;32m--> 482\u001B[1;33m     \u001B[0mparser\u001B[0m \u001B[1;33m=\u001B[0m \u001B[0mTextFileReader\u001B[0m\u001B[1;33m(\u001B[0m\u001B[0mfilepath_or_buffer\u001B[0m\u001B[1;33m,\u001B[0m \u001B[1;33m**\u001B[0m\u001B[0mkwds\u001B[0m\u001B[1;33m)\u001B[0m\u001B[1;33m\u001B[0m\u001B[1;33m\u001B[0m\u001B[0m\n\u001B[0m\u001B[0;32m    483\u001B[0m \u001B[1;33m\u001B[0m\u001B[0m\n\u001B[0;32m    484\u001B[0m     \u001B[1;32mif\u001B[0m \u001B[0mchunksize\u001B[0m \u001B[1;32mor\u001B[0m \u001B[0miterator\u001B[0m\u001B[1;33m:\u001B[0m\u001B[1;33m\u001B[0m\u001B[1;33m\u001B[0m\u001B[0m\n",
      "\u001B[1;32m~\\Desktop\\Thesis\\G2P2C\\venv\\lib\\site-packages\\pandas\\io\\parsers\\readers.py\u001B[0m in \u001B[0;36m__init__\u001B[1;34m(self, f, engine, **kwds)\u001B[0m\n\u001B[0;32m    809\u001B[0m             \u001B[0mself\u001B[0m\u001B[1;33m.\u001B[0m\u001B[0moptions\u001B[0m\u001B[1;33m[\u001B[0m\u001B[1;34m\"has_index_names\"\u001B[0m\u001B[1;33m]\u001B[0m \u001B[1;33m=\u001B[0m \u001B[0mkwds\u001B[0m\u001B[1;33m[\u001B[0m\u001B[1;34m\"has_index_names\"\u001B[0m\u001B[1;33m]\u001B[0m\u001B[1;33m\u001B[0m\u001B[1;33m\u001B[0m\u001B[0m\n\u001B[0;32m    810\u001B[0m \u001B[1;33m\u001B[0m\u001B[0m\n\u001B[1;32m--> 811\u001B[1;33m         \u001B[0mself\u001B[0m\u001B[1;33m.\u001B[0m\u001B[0m_engine\u001B[0m \u001B[1;33m=\u001B[0m \u001B[0mself\u001B[0m\u001B[1;33m.\u001B[0m\u001B[0m_make_engine\u001B[0m\u001B[1;33m(\u001B[0m\u001B[0mself\u001B[0m\u001B[1;33m.\u001B[0m\u001B[0mengine\u001B[0m\u001B[1;33m)\u001B[0m\u001B[1;33m\u001B[0m\u001B[1;33m\u001B[0m\u001B[0m\n\u001B[0m\u001B[0;32m    812\u001B[0m \u001B[1;33m\u001B[0m\u001B[0m\n\u001B[0;32m    813\u001B[0m     \u001B[1;32mdef\u001B[0m \u001B[0mclose\u001B[0m\u001B[1;33m(\u001B[0m\u001B[0mself\u001B[0m\u001B[1;33m)\u001B[0m\u001B[1;33m:\u001B[0m\u001B[1;33m\u001B[0m\u001B[1;33m\u001B[0m\u001B[0m\n",
      "\u001B[1;32m~\\Desktop\\Thesis\\G2P2C\\venv\\lib\\site-packages\\pandas\\io\\parsers\\readers.py\u001B[0m in \u001B[0;36m_make_engine\u001B[1;34m(self, engine)\u001B[0m\n\u001B[0;32m   1038\u001B[0m             )\n\u001B[0;32m   1039\u001B[0m         \u001B[1;31m# error: Too many arguments for \"ParserBase\"\u001B[0m\u001B[1;33m\u001B[0m\u001B[1;33m\u001B[0m\u001B[0m\n\u001B[1;32m-> 1040\u001B[1;33m         \u001B[1;32mreturn\u001B[0m \u001B[0mmapping\u001B[0m\u001B[1;33m[\u001B[0m\u001B[0mengine\u001B[0m\u001B[1;33m]\u001B[0m\u001B[1;33m(\u001B[0m\u001B[0mself\u001B[0m\u001B[1;33m.\u001B[0m\u001B[0mf\u001B[0m\u001B[1;33m,\u001B[0m \u001B[1;33m**\u001B[0m\u001B[0mself\u001B[0m\u001B[1;33m.\u001B[0m\u001B[0moptions\u001B[0m\u001B[1;33m)\u001B[0m  \u001B[1;31m# type: ignore[call-arg]\u001B[0m\u001B[1;33m\u001B[0m\u001B[1;33m\u001B[0m\u001B[0m\n\u001B[0m\u001B[0;32m   1041\u001B[0m \u001B[1;33m\u001B[0m\u001B[0m\n\u001B[0;32m   1042\u001B[0m     \u001B[1;32mdef\u001B[0m \u001B[0m_failover_to_python\u001B[0m\u001B[1;33m(\u001B[0m\u001B[0mself\u001B[0m\u001B[1;33m)\u001B[0m\u001B[1;33m:\u001B[0m\u001B[1;33m\u001B[0m\u001B[1;33m\u001B[0m\u001B[0m\n",
      "\u001B[1;32m~\\Desktop\\Thesis\\G2P2C\\venv\\lib\\site-packages\\pandas\\io\\parsers\\c_parser_wrapper.py\u001B[0m in \u001B[0;36m__init__\u001B[1;34m(self, src, **kwds)\u001B[0m\n\u001B[0;32m     49\u001B[0m \u001B[1;33m\u001B[0m\u001B[0m\n\u001B[0;32m     50\u001B[0m         \u001B[1;31m# open handles\u001B[0m\u001B[1;33m\u001B[0m\u001B[1;33m\u001B[0m\u001B[0m\n\u001B[1;32m---> 51\u001B[1;33m         \u001B[0mself\u001B[0m\u001B[1;33m.\u001B[0m\u001B[0m_open_handles\u001B[0m\u001B[1;33m(\u001B[0m\u001B[0msrc\u001B[0m\u001B[1;33m,\u001B[0m \u001B[0mkwds\u001B[0m\u001B[1;33m)\u001B[0m\u001B[1;33m\u001B[0m\u001B[1;33m\u001B[0m\u001B[0m\n\u001B[0m\u001B[0;32m     52\u001B[0m         \u001B[1;32massert\u001B[0m \u001B[0mself\u001B[0m\u001B[1;33m.\u001B[0m\u001B[0mhandles\u001B[0m \u001B[1;32mis\u001B[0m \u001B[1;32mnot\u001B[0m \u001B[1;32mNone\u001B[0m\u001B[1;33m\u001B[0m\u001B[1;33m\u001B[0m\u001B[0m\n\u001B[0;32m     53\u001B[0m \u001B[1;33m\u001B[0m\u001B[0m\n",
      "\u001B[1;32m~\\Desktop\\Thesis\\G2P2C\\venv\\lib\\site-packages\\pandas\\io\\parsers\\base_parser.py\u001B[0m in \u001B[0;36m_open_handles\u001B[1;34m(self, src, kwds)\u001B[0m\n\u001B[0;32m    220\u001B[0m         \u001B[0mLet\u001B[0m \u001B[0mthe\u001B[0m \u001B[0mreaders\u001B[0m \u001B[0mopen\u001B[0m \u001B[0mIOHandles\u001B[0m \u001B[0mafter\u001B[0m \u001B[0mthey\u001B[0m \u001B[0mare\u001B[0m \u001B[0mdone\u001B[0m \u001B[1;32mwith\u001B[0m \u001B[0mtheir\u001B[0m \u001B[0mpotential\u001B[0m \u001B[0mraises\u001B[0m\u001B[1;33m.\u001B[0m\u001B[1;33m\u001B[0m\u001B[1;33m\u001B[0m\u001B[0m\n\u001B[0;32m    221\u001B[0m         \"\"\"\n\u001B[1;32m--> 222\u001B[1;33m         self.handles = get_handle(\n\u001B[0m\u001B[0;32m    223\u001B[0m             \u001B[0msrc\u001B[0m\u001B[1;33m,\u001B[0m\u001B[1;33m\u001B[0m\u001B[1;33m\u001B[0m\u001B[0m\n\u001B[0;32m    224\u001B[0m             \u001B[1;34m\"r\"\u001B[0m\u001B[1;33m,\u001B[0m\u001B[1;33m\u001B[0m\u001B[1;33m\u001B[0m\u001B[0m\n",
      "\u001B[1;32m~\\Desktop\\Thesis\\G2P2C\\venv\\lib\\site-packages\\pandas\\io\\common.py\u001B[0m in \u001B[0;36mget_handle\u001B[1;34m(path_or_buf, mode, encoding, compression, memory_map, is_text, errors, storage_options)\u001B[0m\n\u001B[0;32m    700\u001B[0m         \u001B[1;32mif\u001B[0m \u001B[0mioargs\u001B[0m\u001B[1;33m.\u001B[0m\u001B[0mencoding\u001B[0m \u001B[1;32mand\u001B[0m \u001B[1;34m\"b\"\u001B[0m \u001B[1;32mnot\u001B[0m \u001B[1;32min\u001B[0m \u001B[0mioargs\u001B[0m\u001B[1;33m.\u001B[0m\u001B[0mmode\u001B[0m\u001B[1;33m:\u001B[0m\u001B[1;33m\u001B[0m\u001B[1;33m\u001B[0m\u001B[0m\n\u001B[0;32m    701\u001B[0m             \u001B[1;31m# Encoding\u001B[0m\u001B[1;33m\u001B[0m\u001B[1;33m\u001B[0m\u001B[0m\n\u001B[1;32m--> 702\u001B[1;33m             handle = open(\n\u001B[0m\u001B[0;32m    703\u001B[0m                 \u001B[0mhandle\u001B[0m\u001B[1;33m,\u001B[0m\u001B[1;33m\u001B[0m\u001B[1;33m\u001B[0m\u001B[0m\n\u001B[0;32m    704\u001B[0m                 \u001B[0mioargs\u001B[0m\u001B[1;33m.\u001B[0m\u001B[0mmode\u001B[0m\u001B[1;33m,\u001B[0m\u001B[1;33m\u001B[0m\u001B[1;33m\u001B[0m\u001B[0m\n",
      "\u001B[1;31mFileNotFoundError\u001B[0m: [Errno 2] No such file or directory: 'C:/Users/davet/Desktop/Thesis/G2P2C/results/Experiment1 - No BatchNorm or Penalty/std1e0/DDPG0_1/testing/data/logs_worker_6000.csv'"
     ]
    }
   ],
   "source": [
    "# metrics and stats for RL agents and clinical, for a selected algorthm.\n",
    "# Check parameters to get more information being calculated.\n",
    "# Normal flow in the calculation: \n",
    "# For each subject, looking at 1500 simulations we calculate the metrics, you can get inter-quartile, mean, std etc.\n",
    "# Using the mean for each metric we calculate cohort level metrics and statistics \n",
    "    \n",
    "# get_summary_stats(cohort=\"adolescent\", algo_type='rl', algorithm='G2P2C', algoAbbreviation='G', \n",
    "#                   metric=['50%', '25%', '75%','mean', 'std'], \n",
    "#                   verbose=False, show_res=True, sort=[False, 'hgbi'],\n",
    "#                   subjects=['0', '2', '6'])\n",
    "# \n",
    "# get_summary_stats(cohort=\"adolescent\", algo_type='clinical', algorithm='BBI', algoAbbreviation='BBI', \n",
    "#                   metric=['50%', '25%', '75%','mean', 'std'], \n",
    "#                   verbose=False, show_res=True, sort=[False, 'hgbi'],\n",
    "#                   subjects=['0', '2', '6'])\n",
    "\n",
    "get_summary_stats(cohort=\"adolescent\", algo_type='rl', algorithm='DDPG1', algoAbbreviation='DDPG', \n",
    "                  metric=['25%', '50%', '75%','mean', 'std'], \n",
    "                  verbose=False, show_res=True, sort=[False, 'hgbi'],\n",
    "                  subjects=['0', '2', '6'],\n",
    "                  result_path=result_path)\n",
    "print(\"=\"*100)\n",
    "get_summary_stats(cohort=\"adolescent\", algo_type='rl', algorithm='DDPG2', algoAbbreviation='DDPG', \n",
    "                  metric=['25%', '50%', '75%','mean', 'std'], \n",
    "                  verbose=False, show_res=True, sort=[False, 'hgbi'],\n",
    "                  subjects=['0', '2', '6'],\n",
    "                  result_path=result_path)\n",
    "print(\"=\"*100)\n",
    "get_summary_stats(cohort=\"adolescent\", algo_type='rl', algorithm='DDPG3', algoAbbreviation='DDPG', \n",
    "                  metric=['25%', '50%', '75%','mean', 'std'], \n",
    "                  verbose=False, show_res=True, sort=[False, 'hgbi'],\n",
    "                  subjects=['0', '2', '6'],\n",
    "                  result_path=result_path)\n",
    "\n"
   ]
  },
  {
   "cell_type": "code",
   "execution_count": 31,
   "id": "9a41397f",
   "metadata": {
    "ExecuteTime": {
     "end_time": "2024-07-11T02:34:10.487695Z",
     "start_time": "2024-07-11T02:33:27.532251Z"
    }
   },
   "outputs": [
    {
     "name": "stdout",
     "output_type": "stream",
     "text": [
      "\n",
      "Compare algorithm performance for the adolescent cohort\n",
      "      normo  hypo  hyper  S_hypo  S_hyper  lgbi   hgbi     ri  reward    fail\n",
      "Algo                                                                         \n",
      "TD1   24.96  0.00  24.16    0.00    50.89  0.04  33.85  33.89  111.62  100.00\n",
      "TD2   24.96  0.00  24.16    0.00    50.89  0.04  33.85  33.89  111.62  100.00\n",
      "TD3   35.22  0.72  22.50    0.39    41.17  1.56  27.94  29.50  141.27   83.89\n"
     ]
    },
    {
     "data": {
      "text/plain": "      normo  hypo  hyper  S_hypo  S_hyper  lgbi   hgbi     ri  reward    fail\nAlgo                                                                         \nTD1   24.96  0.00  24.16    0.00    50.89  0.04  33.85  33.89  111.62  100.00\nTD2   24.96  0.00  24.16    0.00    50.89  0.04  33.85  33.89  111.62  100.00\nTD3   35.22  0.72  22.50    0.39    41.17  1.56  27.94  29.50  141.27   83.89",
      "text/html": "<div>\n<style scoped>\n    .dataframe tbody tr th:only-of-type {\n        vertical-align: middle;\n    }\n\n    .dataframe tbody tr th {\n        vertical-align: top;\n    }\n\n    .dataframe thead th {\n        text-align: right;\n    }\n</style>\n<table border=\"1\" class=\"dataframe\">\n  <thead>\n    <tr style=\"text-align: right;\">\n      <th></th>\n      <th>normo</th>\n      <th>hypo</th>\n      <th>hyper</th>\n      <th>S_hypo</th>\n      <th>S_hyper</th>\n      <th>lgbi</th>\n      <th>hgbi</th>\n      <th>ri</th>\n      <th>reward</th>\n      <th>fail</th>\n    </tr>\n    <tr>\n      <th>Algo</th>\n      <th></th>\n      <th></th>\n      <th></th>\n      <th></th>\n      <th></th>\n      <th></th>\n      <th></th>\n      <th></th>\n      <th></th>\n      <th></th>\n    </tr>\n  </thead>\n  <tbody>\n    <tr>\n      <th>TD1</th>\n      <td>24.96</td>\n      <td>0.00</td>\n      <td>24.16</td>\n      <td>0.00</td>\n      <td>50.89</td>\n      <td>0.04</td>\n      <td>33.85</td>\n      <td>33.89</td>\n      <td>111.62</td>\n      <td>100.00</td>\n    </tr>\n    <tr>\n      <th>TD2</th>\n      <td>24.96</td>\n      <td>0.00</td>\n      <td>24.16</td>\n      <td>0.00</td>\n      <td>50.89</td>\n      <td>0.04</td>\n      <td>33.85</td>\n      <td>33.89</td>\n      <td>111.62</td>\n      <td>100.00</td>\n    </tr>\n    <tr>\n      <th>TD3</th>\n      <td>35.22</td>\n      <td>0.72</td>\n      <td>22.50</td>\n      <td>0.39</td>\n      <td>41.17</td>\n      <td>1.56</td>\n      <td>27.94</td>\n      <td>29.50</td>\n      <td>141.27</td>\n      <td>83.89</td>\n    </tr>\n  </tbody>\n</table>\n</div>"
     },
     "execution_count": 31,
     "metadata": {},
     "output_type": "execute_result"
    }
   ],
   "source": [
    "# Adolescents\n",
    "compare_algorithms(cohort=\"adolescent\", \n",
    "                   algo_types= ['rl', 'rl', 'rl', 'rl'],\n",
    "                   algos=['DDPG1', 'DDPG2', 'DDPG3'], \n",
    "                   abbreviations=['DDPG', 'DDPG', 'DDPG'],\n",
    "                   subjects=['0', '2', '6'],\n",
    "                   result_path=result_path)"
   ]
  },
  {
   "cell_type": "code",
   "execution_count": null,
   "id": "076b5f73",
   "metadata": {},
   "outputs": [],
   "source": []
  }
 ],
 "metadata": {
  "kernelspec": {
   "display_name": "Python 3 (ipykernel)",
   "language": "python",
   "name": "python3"
  },
  "language_info": {
   "codemirror_mode": {
    "name": "ipython",
    "version": 3
   },
   "file_extension": ".py",
   "mimetype": "text/x-python",
   "name": "python",
   "nbconvert_exporter": "python",
   "pygments_lexer": "ipython3",
   "version": "3.10.12"
  }
 },
 "nbformat": 4,
 "nbformat_minor": 5
}
