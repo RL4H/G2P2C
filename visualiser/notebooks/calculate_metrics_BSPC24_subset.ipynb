{
 "cells": [
  {
   "cell_type": "markdown",
   "id": "74f521ab",
   "metadata": {},
   "source": [
    "This Notebook is used to calculate the summary statistics for both clinical and RL-algorithms.\n",
    "\n",
    "For RL algorithms: <br>\n",
    "The results for experiments will be saved under \"results/FOLDER_ID/AlgoSub_SEED\".<br>\n",
    "e.g., 'results/adult/G0_1'; G2P2C algorithm for adult subject 0 and seed 1."
   ]
  },
  {
   "cell_type": "code",
   "execution_count": 10,
   "id": "dfd2e100",
   "metadata": {
    "ExecuteTime": {
     "end_time": "2024-08-09T06:51:22.201540Z",
     "start_time": "2024-08-09T06:51:22.183537Z"
    }
   },
   "outputs": [],
   "source": [
    "import os \n",
    "import sys \n",
    "from decouple import config \n",
    "MAIN_PATH = 'C:/Users/davet/Desktop/Thesis/G2P2C/'\n",
    "sys.path.insert(1, MAIN_PATH)\n",
    "from visualiser.core import experiment_error_check\n",
    "from visualiser.statistics import get_summary_stats, compare_algorithms\n",
    "\n",
    "# First we quickly check and verify that the RL experiments have properly completed based on the \n",
    "# general template/guidelines used. You can customise additional parameters, check func \"experiment_error_check\".\n",
    "# experiment_error_check(cohort=\"adolescent\", algorithm='PPO', algoAbbreviation='P', subjects=['0', '2', '6'])\n",
    "result_path = {'TD3_1':'results/L2Norm_LR1e0/NoCutOff/NoiseApplication/TD3/Model1/NormDist/sigma_2e-1',\n",
    "               'TD3_2':'results/L2Norm_LR1e-1/NoCutOff/NoiseApplication/TD3/Model1/NormDist/sigma_2e-1',\n",
    "               'TD3_3':'results/L2Norm_LR1e-2/NoCutOff/NoiseApplication/TD3/Model1/NormDist/sigma_2e-1'}"
   ]
  },
  {
   "cell_type": "markdown",
   "id": "06bc35a1",
   "metadata": {},
   "source": [
    "We calculate statistics (individual/cohort-levels) for identified clinical and RL metrics.\n",
    "Target_metrics are time in normoglycemia (TIR), hypoglycemia, hyperglycemia, severe hypoglycemia, Severe hyperglycemia, LBGI (Low Blood Glucose Index), HBGI (High Blood Glucose Index), RI (Risk Index), Failure Rate, Reward."
   ]
  },
  {
   "cell_type": "code",
   "execution_count": 11,
   "id": "010ecd42",
   "metadata": {
    "scrolled": false,
    "ExecuteTime": {
     "end_time": "2024-08-09T06:52:21.824978Z",
     "start_time": "2024-08-09T06:52:04.953524Z"
    }
   },
   "outputs": [
    {
     "name": "stdout",
     "output_type": "stream",
     "text": [
      "\n",
      "Summary statistics for adolescent cohort, TD3_1 Algorithm\n",
      "\n",
      "Summarised cohort statistics (mean):\n",
      "    normo   hypo  hyper  S_hypo  S_hyper   lgbi  hgbi     ri  reward   fail\n",
      "id                                                                         \n",
      "2   76.85  11.66   0.01   11.47      0.0  10.44  1.24  11.68   45.58  100.0\n",
      "\n",
      "Averaged cohort statistics:\n",
      "      normo   hypo  hyper  S_hypo  S_hyper   lgbi  hgbi     ri  reward   fail\n",
      "25%   72.46   6.90   0.00    7.46      0.0   8.48  0.70   9.87   40.41  100.0\n",
      "50%   77.14  10.87   0.00   10.81      0.0  10.07  1.11  11.24   45.54  100.0\n",
      "75%   82.14  15.25   0.00   14.67      0.0  12.31  1.76  13.69   50.18  100.0\n",
      "mean  76.85  11.66   0.01   11.47      0.0  10.44  1.24  11.68   45.58  100.0\n",
      "std    6.94   6.18   0.19    5.15      0.0   2.53  0.65   2.74    7.52  100.0\n",
      "====================================================================================================\n",
      "\n",
      "Summary statistics for adolescent cohort, TD3_2 Algorithm\n",
      "\n",
      "Summarised cohort statistics (mean):\n",
      "    normo  hypo  hyper  S_hypo  S_hyper  lgbi   hgbi    ri  reward  fail\n",
      "id                                                                      \n",
      "2   48.42  0.91  19.49    0.34    30.85  2.52  19.49  22.0  226.55  13.0\n",
      "\n",
      "Averaged cohort statistics:\n",
      "      normo  hypo  hyper  S_hypo  S_hyper  lgbi   hgbi     ri  reward  fail\n",
      "25%   38.54  0.00  15.97    0.00    19.79  0.00  12.64  17.37  200.76  13.0\n",
      "50%   50.35  0.00  19.79    0.00    28.82  0.77  17.69  20.58  236.58  13.0\n",
      "75%   54.51  1.04  23.26    0.00    43.40  3.18  26.01  26.96  252.22  13.0\n",
      "mean  48.42  0.91  19.49    0.34    30.85  2.52  19.49  22.00  226.55  13.0\n",
      "std    9.24  1.78   5.79    0.89    12.83  3.70   7.81   6.49   29.45  13.0\n",
      "====================================================================================================\n",
      "\n",
      "Summary statistics for adolescent cohort, TD3_3 Algorithm\n",
      "\n",
      "Summarised cohort statistics (mean):\n",
      "    normo  hypo  hyper  S_hypo  S_hyper  lgbi   hgbi     ri  reward   fail\n",
      "id                                                                        \n",
      "2   55.41  3.02  13.61    2.28    25.67  4.51  18.64  23.16   131.9  87.27\n",
      "\n",
      "Averaged cohort statistics:\n",
      "      normo  hypo  hyper  S_hypo  S_hyper  lgbi   hgbi     ri  reward   fail\n",
      "25%   26.35  0.00   8.93    0.00     0.00  0.00   3.88  10.50  103.60  87.27\n",
      "50%   53.47  0.76  12.50    1.05    13.19  3.74  14.83  19.16  110.63  87.27\n",
      "75%   81.98  3.95  19.16    2.88    54.49  7.28  37.62  38.09  156.63  87.27\n",
      "mean  55.41  3.02  13.61    2.28    25.67  4.51  18.64  23.16  131.90  87.27\n",
      "std   26.10  5.02   7.03    3.98    25.31  4.97  15.57  13.10   51.87  87.27\n"
     ]
    },
    {
     "data": {
      "text/plain": "      normo  hypo  hyper  S_hypo  S_hyper  lgbi   hgbi     ri  reward   fail\n25%   26.35  0.00   8.93    0.00     0.00  0.00   3.88  10.50  103.60  87.27\n50%   53.47  0.76  12.50    1.05    13.19  3.74  14.83  19.16  110.63  87.27\n75%   81.98  3.95  19.16    2.88    54.49  7.28  37.62  38.09  156.63  87.27\nmean  55.41  3.02  13.61    2.28    25.67  4.51  18.64  23.16  131.90  87.27\nstd   26.10  5.02   7.03    3.98    25.31  4.97  15.57  13.10   51.87  87.27",
      "text/html": "<div>\n<style scoped>\n    .dataframe tbody tr th:only-of-type {\n        vertical-align: middle;\n    }\n\n    .dataframe tbody tr th {\n        vertical-align: top;\n    }\n\n    .dataframe thead th {\n        text-align: right;\n    }\n</style>\n<table border=\"1\" class=\"dataframe\">\n  <thead>\n    <tr style=\"text-align: right;\">\n      <th></th>\n      <th>normo</th>\n      <th>hypo</th>\n      <th>hyper</th>\n      <th>S_hypo</th>\n      <th>S_hyper</th>\n      <th>lgbi</th>\n      <th>hgbi</th>\n      <th>ri</th>\n      <th>reward</th>\n      <th>fail</th>\n    </tr>\n  </thead>\n  <tbody>\n    <tr>\n      <th>25%</th>\n      <td>26.35</td>\n      <td>0.00</td>\n      <td>8.93</td>\n      <td>0.00</td>\n      <td>0.00</td>\n      <td>0.00</td>\n      <td>3.88</td>\n      <td>10.50</td>\n      <td>103.60</td>\n      <td>87.27</td>\n    </tr>\n    <tr>\n      <th>50%</th>\n      <td>53.47</td>\n      <td>0.76</td>\n      <td>12.50</td>\n      <td>1.05</td>\n      <td>13.19</td>\n      <td>3.74</td>\n      <td>14.83</td>\n      <td>19.16</td>\n      <td>110.63</td>\n      <td>87.27</td>\n    </tr>\n    <tr>\n      <th>75%</th>\n      <td>81.98</td>\n      <td>3.95</td>\n      <td>19.16</td>\n      <td>2.88</td>\n      <td>54.49</td>\n      <td>7.28</td>\n      <td>37.62</td>\n      <td>38.09</td>\n      <td>156.63</td>\n      <td>87.27</td>\n    </tr>\n    <tr>\n      <th>mean</th>\n      <td>55.41</td>\n      <td>3.02</td>\n      <td>13.61</td>\n      <td>2.28</td>\n      <td>25.67</td>\n      <td>4.51</td>\n      <td>18.64</td>\n      <td>23.16</td>\n      <td>131.90</td>\n      <td>87.27</td>\n    </tr>\n    <tr>\n      <th>std</th>\n      <td>26.10</td>\n      <td>5.02</td>\n      <td>7.03</td>\n      <td>3.98</td>\n      <td>25.31</td>\n      <td>4.97</td>\n      <td>15.57</td>\n      <td>13.10</td>\n      <td>51.87</td>\n      <td>87.27</td>\n    </tr>\n  </tbody>\n</table>\n</div>"
     },
     "execution_count": 11,
     "metadata": {},
     "output_type": "execute_result"
    }
   ],
   "source": [
    "# metrics and stats for RL agents and clinical, for a selected algorthm.\n",
    "# Check parameters to get more information being calculated.\n",
    "# Normal flow in the calculation: \n",
    "# For each subject, looking at 1500 simulations we calculate the metrics, you can get inter-quartile, mean, std etc.\n",
    "# Using the mean for each metric we calculate cohort level metrics and statistics \n",
    "    \n",
    "# get_summary_stats(cohort=\"adolescent\", algo_type='rl', algorithm='G2P2C', algoAbbreviation='G', \n",
    "#                   metric=['50%', '25%', '75%','mean', 'std'], \n",
    "#                   verbose=False, show_res=True, sort=[False, 'hgbi'],\n",
    "#                   subjects=['0', '2', '6'])\n",
    "# \n",
    "# get_summary_stats(cohort=\"adolescent\", algo_type='clinical', algorithm='BBI', algoAbbreviation='BBI', \n",
    "#                   metric=['50%', '25%', '75%','mean', 'std'], \n",
    "#                   verbose=False, show_res=True, sort=[False, 'hgbi'],\n",
    "#                   subjects=['0', '2', '6'])\n",
    "# patient = '0'\n",
    "patient = '2'\n",
    "# patient = '6'\n",
    "get_summary_stats(cohort=\"adolescent\", algo_type='rl', algorithm='TD3_1', algoAbbreviation='TD3', \n",
    "                  metric=['25%', '50%', '75%','mean', 'std'], \n",
    "                  verbose=False, show_res=True, sort=[False, 'hgbi'],\n",
    "                  # subjects=['0', '2', '6'],\n",
    "                  subjects=[patient],\n",
    "                  result_path=result_path)\n",
    "print(\"=\"*100)\n",
    "get_summary_stats(cohort=\"adolescent\", algo_type='rl', algorithm='TD3_2', algoAbbreviation='TD3', \n",
    "                  metric=['25%', '50%', '75%','mean', 'std'], \n",
    "                  verbose=False, show_res=True, sort=[False, 'hgbi'],\n",
    "                  # subjects=['0', '2', '6'],\n",
    "                  subjects=[patient],\n",
    "                  result_path=result_path)\n",
    "print(\"=\"*100)\n",
    "get_summary_stats(cohort=\"adolescent\", algo_type='rl', algorithm='TD3_3', algoAbbreviation='TD3', \n",
    "                  metric=['25%', '50%', '75%','mean', 'std'], \n",
    "                  verbose=False, show_res=True, sort=[False, 'hgbi'],\n",
    "                  # subjects=['0', '2', '6'],\n",
    "                  subjects=[patient],\n",
    "                  result_path=result_path)\n",
    "\n",
    "\n"
   ]
  },
  {
   "cell_type": "code",
   "execution_count": 31,
   "id": "9a41397f",
   "metadata": {
    "ExecuteTime": {
     "end_time": "2024-07-11T02:34:10.487695Z",
     "start_time": "2024-07-11T02:33:27.532251Z"
    }
   },
   "outputs": [
    {
     "name": "stdout",
     "output_type": "stream",
     "text": [
      "\n",
      "Compare algorithm performance for the adolescent cohort\n",
      "      normo  hypo  hyper  S_hypo  S_hyper  lgbi   hgbi     ri  reward    fail\n",
      "Algo                                                                         \n",
      "TD1   24.96  0.00  24.16    0.00    50.89  0.04  33.85  33.89  111.62  100.00\n",
      "TD2   24.96  0.00  24.16    0.00    50.89  0.04  33.85  33.89  111.62  100.00\n",
      "TD3   35.22  0.72  22.50    0.39    41.17  1.56  27.94  29.50  141.27   83.89\n"
     ]
    },
    {
     "data": {
      "text/plain": "      normo  hypo  hyper  S_hypo  S_hyper  lgbi   hgbi     ri  reward    fail\nAlgo                                                                         \nTD1   24.96  0.00  24.16    0.00    50.89  0.04  33.85  33.89  111.62  100.00\nTD2   24.96  0.00  24.16    0.00    50.89  0.04  33.85  33.89  111.62  100.00\nTD3   35.22  0.72  22.50    0.39    41.17  1.56  27.94  29.50  141.27   83.89",
      "text/html": "<div>\n<style scoped>\n    .dataframe tbody tr th:only-of-type {\n        vertical-align: middle;\n    }\n\n    .dataframe tbody tr th {\n        vertical-align: top;\n    }\n\n    .dataframe thead th {\n        text-align: right;\n    }\n</style>\n<table border=\"1\" class=\"dataframe\">\n  <thead>\n    <tr style=\"text-align: right;\">\n      <th></th>\n      <th>normo</th>\n      <th>hypo</th>\n      <th>hyper</th>\n      <th>S_hypo</th>\n      <th>S_hyper</th>\n      <th>lgbi</th>\n      <th>hgbi</th>\n      <th>ri</th>\n      <th>reward</th>\n      <th>fail</th>\n    </tr>\n    <tr>\n      <th>Algo</th>\n      <th></th>\n      <th></th>\n      <th></th>\n      <th></th>\n      <th></th>\n      <th></th>\n      <th></th>\n      <th></th>\n      <th></th>\n      <th></th>\n    </tr>\n  </thead>\n  <tbody>\n    <tr>\n      <th>TD1</th>\n      <td>24.96</td>\n      <td>0.00</td>\n      <td>24.16</td>\n      <td>0.00</td>\n      <td>50.89</td>\n      <td>0.04</td>\n      <td>33.85</td>\n      <td>33.89</td>\n      <td>111.62</td>\n      <td>100.00</td>\n    </tr>\n    <tr>\n      <th>TD2</th>\n      <td>24.96</td>\n      <td>0.00</td>\n      <td>24.16</td>\n      <td>0.00</td>\n      <td>50.89</td>\n      <td>0.04</td>\n      <td>33.85</td>\n      <td>33.89</td>\n      <td>111.62</td>\n      <td>100.00</td>\n    </tr>\n    <tr>\n      <th>TD3</th>\n      <td>35.22</td>\n      <td>0.72</td>\n      <td>22.50</td>\n      <td>0.39</td>\n      <td>41.17</td>\n      <td>1.56</td>\n      <td>27.94</td>\n      <td>29.50</td>\n      <td>141.27</td>\n      <td>83.89</td>\n    </tr>\n  </tbody>\n</table>\n</div>"
     },
     "execution_count": 31,
     "metadata": {},
     "output_type": "execute_result"
    }
   ],
   "source": [
    "# Adolescents\n",
    "compare_algorithms(cohort=\"adolescent\", \n",
    "                   algo_types= ['rl', 'rl', 'rl', 'rl'],\n",
    "                   algos=['DDPG1', 'DDPG2', 'DDPG3'], \n",
    "                   abbreviations=['DDPG', 'DDPG', 'DDPG'],\n",
    "                   subjects=['0', '2', '6'],\n",
    "                   result_path=result_path)"
   ]
  },
  {
   "cell_type": "code",
   "execution_count": null,
   "id": "076b5f73",
   "metadata": {},
   "outputs": [],
   "source": []
  }
 ],
 "metadata": {
  "kernelspec": {
   "display_name": "Python 3 (ipykernel)",
   "language": "python",
   "name": "python3"
  },
  "language_info": {
   "codemirror_mode": {
    "name": "ipython",
    "version": 3
   },
   "file_extension": ".py",
   "mimetype": "text/x-python",
   "name": "python",
   "nbconvert_exporter": "python",
   "pygments_lexer": "ipython3",
   "version": "3.10.12"
  }
 },
 "nbformat": 4,
 "nbformat_minor": 5
}
