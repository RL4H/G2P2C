{
 "cells": [
  {
   "cell_type": "markdown",
   "id": "74f521ab",
   "metadata": {},
   "source": [
    "This Notebook is used to calculate the summary statistics for both clinical and RL-algorithms.\n",
    "\n",
    "For RL algorithms: <br>\n",
    "The results for experiments will be saved under \"results/FOLDER_ID/AlgoSub_SEED\".<br>\n",
    "e.g., 'results/adult/G0_1'; G2P2C algorithm for adult subject 0 and seed 1."
   ]
  },
  {
   "cell_type": "code",
   "execution_count": 6,
   "id": "dfd2e100",
   "metadata": {
    "ExecuteTime": {
     "end_time": "2024-09-14T23:47:34.167752Z",
     "start_time": "2024-09-14T23:47:34.162252Z"
    }
   },
   "outputs": [],
   "source": [
    "import os \n",
    "import sys \n",
    "from decouple import config \n",
    "MAIN_PATH = 'C:/Users/davet/Desktop/Thesis/G2P2C/'\n",
    "sys.path.insert(1, MAIN_PATH)\n",
    "from visualiser.core import experiment_error_check\n",
    "from visualiser.statistics import get_summary_stats, compare_algorithms\n",
    "\n",
    "# First we quickly check and verify that the RL experiments have properly completed based on the \n",
    "# general template/guidelines used. You can customise additional parameters, check func \"experiment_error_check\".\n",
    "# experiment_error_check(cohort=\"adolescent\", algorithm='PPO', algoAbbreviation='P', subjects=['0', '2', '6'])\n",
    "result_path = {'TD3_1':'results/PER_Study/Per_Rank_0/TD3/alpha_075/beta_0',#'results/PER_Study/Per_Proportional/TD3/alpha_075/beta_0/',\n",
    "               'TD3_2':'results/PER_Study/Per_Rank_0/TD3/alpha_075/beta_025/',\n",
    "               'TD3_3':'results/PER_Study/Per_Rank_0/TD3/alpha_075/beta_05/',\n",
    "               'TD3_4':'results/PER_Study/Per_Rank_0/TD3/alpha_075/beta_075/',\n",
    "               'TD3_5':'results/PER_Study/Per_Rank_0/TD3/alpha_075/beta_1/',\n",
    "               }\n",
    "\n",
    "\n",
    "# # Best Results\n",
    "# result_path = {'TD3_1':'results/Revised_PER_Study/Per_Rank/TD3/alpha_025/beta_05',#'results/PER_Study/Per_Proportional/TD3/alpha_075/beta_0/',\n",
    "#                'TD3_2':'results/Revised_PER_Study/Per_Rank/TD3/alpha_025/beta_05/',\n",
    "#                'TD3_3':'results/PER_Study/Per_Rank/TD3/alpha_025/beta_05/',\n",
    "#                'TD3_4':'results/Revised_PER_Study/Per_Rank/TD3/alpha_025/beta_05/',\n",
    "#                'TD3_5':'results/Revised_PER_Study/Per_Rank/TD3/alpha_025/beta_05/',\n",
    "#                'TD3_6':'results/Revised_PER_Study/Per_Rank/TD3/alpha_025/beta_05/',\n",
    "#                'TD3_7':'results/PER_Study/Per_Rank_6/',\n",
    "#                'TD3_8':'results/Revised_PER_Study/Per_Rank/TD3/alpha_025/beta_05/',\n",
    "#                'TD3_9':'results/Revised_PER_Study/Per_Rank/TD3/alpha_025/beta_05/',\n",
    "#                'TD3_10':'results/Revised_PER_Study/Per_Rank/TD3/alpha_025/beta_05/',\n",
    "#                'BBI' : 'results/adolescent/BBI',\n",
    "#                'BBHE' : 'results/adolescent/BBHE',\n",
    "#                'TD3' : 'results/Best_Models/Best_Final_TD3',\n",
    "#                }"
   ]
  },
  {
   "cell_type": "markdown",
   "id": "06bc35a1",
   "metadata": {},
   "source": [
    "We calculate statistics (individual/cohort-levels) for identified clinical and RL metrics.\n",
    "Target_metrics are time in normoglycemia (TIR), hypoglycemia, hyperglycemia, severe hypoglycemia, Severe hyperglycemia, LBGI (Low Blood Glucose Index), HBGI (High Blood Glucose Index), RI (Risk Index), Failure Rate, Reward."
   ]
  },
  {
   "cell_type": "code",
   "execution_count": 7,
   "id": "010ecd42",
   "metadata": {
    "scrolled": false,
    "ExecuteTime": {
     "end_time": "2024-09-14T23:48:04.009609Z",
     "start_time": "2024-09-14T23:47:53.901181Z"
    }
   },
   "outputs": [
    {
     "name": "stdout",
     "output_type": "stream",
     "text": [
      "\n",
      "Summary statistics for adolescent cohort, TD3_4 Algorithm\n",
      "\n",
      "Summarised cohort statistics (mean):\n",
      "    normo  hypo  hyper  S_hypo  S_hyper  lgbi  hgbi    ri  reward  fail\n",
      "id                                                                     \n",
      "0   85.82  1.68   12.3    0.15     0.05  1.66  3.46  5.12   277.2  0.67\n",
      "\n",
      "Averaged cohort statistics:\n",
      "      normo  hypo  hyper  S_hypo  S_hyper  lgbi  hgbi    ri  reward  fail\n",
      "25%   67.36  0.00   0.00    0.00     0.00  0.00  1.81  3.84  269.71  0.67\n",
      "50%   94.10  0.35   1.39    0.00     0.00  1.70  2.25  4.87  281.29  0.67\n",
      "75%   98.26  3.12  32.64    0.00     0.00  2.65  6.35  6.48  282.37  0.67\n",
      "mean  85.82  1.68  12.30    0.15     0.05  1.66  3.46  5.12  277.20  0.67\n",
      "std   15.25  2.22  16.25    0.48     0.25  1.41  2.17  1.40    8.46  0.67\n",
      "\n",
      "Summary statistics for adolescent cohort, TD3_5 Algorithm\n",
      "\n",
      "Summarised cohort statistics (mean):\n",
      "    normo  hypo  hyper  S_hypo  S_hyper  lgbi  hgbi    ri  reward  fail\n",
      "id                                                                     \n",
      "0   85.35  0.48  14.14    0.01     0.02  0.97  3.88  4.85  277.53   0.0\n",
      "\n",
      "Averaged cohort statistics:\n",
      "      normo  hypo  hyper  S_hypo  S_hyper  lgbi  hgbi    ri  reward  fail\n",
      "25%   71.18  0.00   2.43    0.00     0.00  0.10  2.27  3.32  271.27   0.0\n",
      "50%   88.89  0.00  10.07    0.00     0.00  0.75  3.43  4.83  278.74   0.0\n",
      "75%   97.57  0.00  28.82    0.00     0.00  1.30  5.86  6.13  282.29   0.0\n",
      "mean  85.35  0.48  14.14    0.01     0.02  0.97  3.88  4.85  277.53   0.0\n",
      "std   12.83  1.27  12.97    0.11     0.15  1.04  1.64  1.54    5.02   0.0\n"
     ]
    }
   ],
   "source": [
    "# metrics and stats for RL agents and clinical, for a selected algorthm.\n",
    "# Check parameters to get more information being calculated.\n",
    "# Normal flow in the calculation: \n",
    "# For each subject, looking at 1500 simulations we calculate the metrics, you can get inter-quartile, mean, std etc.\n",
    "# Using the mean for each metric we calculate cohort level metrics and statistics \n",
    "    \n",
    "# get_summary_stats(cohort=\"adolescent\", algo_type='rl', algorithm='G2P2C', algoAbbreviation='G', \n",
    "#                   metric=['50%', '25%', '75%','mean', 'std'], \n",
    "#                   verbose=False, show_res=True, sort=[False, 'hgbi'],\n",
    "#                   subjects=['0', '2', '6'])\n",
    "# \n",
    "# get_summary_stats(cohort=\"adolescent\", algo_type='clinical', algorithm='BBI', algoAbbreviation='BBI', \n",
    "#                   metric=['50%', '25%', '75%','mean', 'std'], \n",
    "#                   verbose=False, show_res=True, sort=[False, 'hgbi'],\n",
    "#                   subjects=['0', '2', '6'])\n",
    "# patient = '0'\n",
    "# patient = '2'\n",
    "patient = '0'\n",
    "# patients = ['0']\n",
    "\n",
    "# patients = [str(i) for i in range(0,6)]\n",
    "\n",
    "#Multi result settings on single patient\n",
    "# i=0\n",
    "# for patient in patients:\n",
    "#     get_summary_stats(cohort=\"adolescent\", algo_type='rl', algorithm='TD3_'+str(i+1), algoAbbreviation='TD3', \n",
    "#                       metric=['25%', '50%', '75%','mean', 'std'], \n",
    "#                       verbose=False, show_res=True, sort=[False, 'hgbi'],\n",
    "#                       # subjects=['0', '2', '6'],\n",
    "#                       subjects=[patient],\n",
    "#                       result_path=result_path)\n",
    "#     i+=1\n",
    "    \n",
    "#Multi Patients\n",
    "# for patient in patients:\n",
    "#     get_summary_stats(cohort=\"adult\", algo_type='rl', algorithm='TD3_1', algoAbbreviation='TD3', \n",
    "#                       metric=['25%', '50%', '75%','mean', 'std'], \n",
    "#                       verbose=False, show_res=True, sort=[False, 'hgbi'],\n",
    "#                       # subjects=['0', '2', '6'],\n",
    "#                       subjects=[patient],\n",
    "#                       result_path=result_path)\n",
    "\n",
    "#BBI\n",
    "for i in range(4,6):\n",
    "    get_summary_stats(cohort=\"adolescent\", algo_type='rl', algorithm='TD3_'+str(i), algoAbbreviation='TD3', \n",
    "                      metric=['25%', '50%', '75%','mean', 'std'], \n",
    "                      verbose=False, show_res=True, sort=[False, 'hgbi'],\n",
    "                      # subjects=['0', '2', '6'],\n",
    "                      subjects=[patient],\n",
    "                      result_path=result_path)\n",
    "\n",
    "# for pat in [patient]:\n",
    "#     get_summary_stats(cohort=\"adolescent\", algo_type='rl', algorithm='TD3'+pat, algoAbbreviation='TD3', \n",
    "#                   metric=['25%', '50%', '75%','mean', 'std'], \n",
    "#                   verbose=False, show_res=True, sort=[False, 'hgbi'],\n",
    "#                   # subjects=['0', '2', '6'],\n",
    "#                   subjects=[pat],\n",
    "#                   result_path=result_path)\n",
    "# get_summary_stats(cohort=\"adolescent\", algo_type='rl', algorithm='PPO_1', algoAbbreviation='P', \n",
    "#                   metric=['25%', '50%', '75%','mean', 'std'], \n",
    "#                   verbose=False, show_res=True, sort=[False, 'hgbi'],\n",
    "#                   # subjects=['0', '2', '6'],\n",
    "#                   subjects=[patient],\n",
    "#                   result_path=result_path)\n",
    "# print(\"=\"*100)\n",
    "# get_summary_stats(cohort=\"adolescent\", algo_type='rl', algorithm='PPO_2', algoAbbreviation='P', \n",
    "#                   metric=['25%', '50%', '75%','mean', 'std'], \n",
    "#                   verbose=False, show_res=True, sort=[False, 'hgbi'],\n",
    "#                   # subjects=['0', '2', '6'],\n",
    "#                   subjects=[patient],\n",
    "#                   result_path=result_path)\n",
    "# print(\"=\"*100)\n",
    "# get_summary_stats(cohort=\"adolescent\", algo_type='rl', algorithm='PPO_3', algoAbbreviation='P', \n",
    "#                   metric=['25%', '50%', '75%','mean', 'std'], \n",
    "#                   verbose=False, show_res=True, sort=[False, 'hgbi'],\n",
    "#                   # subjects=['0', '2', '6'],\n",
    "#                   subjects=[patient],\n",
    "#                   result_path=result_path)\n",
    "\n",
    "\n"
   ]
  },
  {
   "cell_type": "code",
   "outputs": [],
   "source": [],
   "metadata": {
    "collapsed": false
   },
   "id": "85c426ed0d3382b0"
  },
  {
   "cell_type": "code",
   "execution_count": 31,
   "id": "9a41397f",
   "metadata": {
    "ExecuteTime": {
     "end_time": "2024-07-11T02:34:10.487695Z",
     "start_time": "2024-07-11T02:33:27.532251Z"
    }
   },
   "outputs": [
    {
     "name": "stdout",
     "output_type": "stream",
     "text": [
      "\n",
      "Compare algorithm performance for the adolescent cohort\n",
      "      normo  hypo  hyper  S_hypo  S_hyper  lgbi   hgbi     ri  reward    fail\n",
      "Algo                                                                         \n",
      "TD1   24.96  0.00  24.16    0.00    50.89  0.04  33.85  33.89  111.62  100.00\n",
      "TD2   24.96  0.00  24.16    0.00    50.89  0.04  33.85  33.89  111.62  100.00\n",
      "TD3   35.22  0.72  22.50    0.39    41.17  1.56  27.94  29.50  141.27   83.89\n"
     ]
    },
    {
     "data": {
      "text/plain": "      normo  hypo  hyper  S_hypo  S_hyper  lgbi   hgbi     ri  reward    fail\nAlgo                                                                         \nTD1   24.96  0.00  24.16    0.00    50.89  0.04  33.85  33.89  111.62  100.00\nTD2   24.96  0.00  24.16    0.00    50.89  0.04  33.85  33.89  111.62  100.00\nTD3   35.22  0.72  22.50    0.39    41.17  1.56  27.94  29.50  141.27   83.89",
      "text/html": "<div>\n<style scoped>\n    .dataframe tbody tr th:only-of-type {\n        vertical-align: middle;\n    }\n\n    .dataframe tbody tr th {\n        vertical-align: top;\n    }\n\n    .dataframe thead th {\n        text-align: right;\n    }\n</style>\n<table border=\"1\" class=\"dataframe\">\n  <thead>\n    <tr style=\"text-align: right;\">\n      <th></th>\n      <th>normo</th>\n      <th>hypo</th>\n      <th>hyper</th>\n      <th>S_hypo</th>\n      <th>S_hyper</th>\n      <th>lgbi</th>\n      <th>hgbi</th>\n      <th>ri</th>\n      <th>reward</th>\n      <th>fail</th>\n    </tr>\n    <tr>\n      <th>Algo</th>\n      <th></th>\n      <th></th>\n      <th></th>\n      <th></th>\n      <th></th>\n      <th></th>\n      <th></th>\n      <th></th>\n      <th></th>\n      <th></th>\n    </tr>\n  </thead>\n  <tbody>\n    <tr>\n      <th>TD1</th>\n      <td>24.96</td>\n      <td>0.00</td>\n      <td>24.16</td>\n      <td>0.00</td>\n      <td>50.89</td>\n      <td>0.04</td>\n      <td>33.85</td>\n      <td>33.89</td>\n      <td>111.62</td>\n      <td>100.00</td>\n    </tr>\n    <tr>\n      <th>TD2</th>\n      <td>24.96</td>\n      <td>0.00</td>\n      <td>24.16</td>\n      <td>0.00</td>\n      <td>50.89</td>\n      <td>0.04</td>\n      <td>33.85</td>\n      <td>33.89</td>\n      <td>111.62</td>\n      <td>100.00</td>\n    </tr>\n    <tr>\n      <th>TD3</th>\n      <td>35.22</td>\n      <td>0.72</td>\n      <td>22.50</td>\n      <td>0.39</td>\n      <td>41.17</td>\n      <td>1.56</td>\n      <td>27.94</td>\n      <td>29.50</td>\n      <td>141.27</td>\n      <td>83.89</td>\n    </tr>\n  </tbody>\n</table>\n</div>"
     },
     "execution_count": 31,
     "metadata": {},
     "output_type": "execute_result"
    }
   ],
   "source": [
    "# Adolescents\n",
    "compare_algorithms(cohort=\"adolescent\", \n",
    "                   algo_types= ['rl', 'rl', 'rl', 'rl'],\n",
    "                   algos=['DDPG1', 'DDPG2', 'DDPG3'], \n",
    "                   abbreviations=['DDPG', 'DDPG', 'DDPG'],\n",
    "                   subjects=['0', '2', '6'],\n",
    "                   result_path=result_path)"
   ]
  },
  {
   "cell_type": "code",
   "execution_count": null,
   "id": "076b5f73",
   "metadata": {},
   "outputs": [],
   "source": []
  }
 ],
 "metadata": {
  "kernelspec": {
   "display_name": "Python 3 (ipykernel)",
   "language": "python",
   "name": "python3"
  },
  "language_info": {
   "codemirror_mode": {
    "name": "ipython",
    "version": 3
   },
   "file_extension": ".py",
   "mimetype": "text/x-python",
   "name": "python",
   "nbconvert_exporter": "python",
   "pygments_lexer": "ipython3",
   "version": "3.10.12"
  }
 },
 "nbformat": 4,
 "nbformat_minor": 5
}
