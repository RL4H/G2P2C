{
 "cells": [
  {
   "cell_type": "markdown",
   "id": "74f521ab",
   "metadata": {},
   "source": [
    "This Notebook is used to calculate the summary statistics for both clinical and RL-algorithms.\n",
    "\n",
    "For RL algorithms: <br>\n",
    "The results for experiments will be saved under \"results/FOLDER_ID/AlgoSub_SEED\".<br>\n",
    "e.g., 'results/adult/G0_1'; G2P2C algorithm for adult subject 0 and seed 1."
   ]
  },
  {
   "cell_type": "code",
   "execution_count": 12,
   "id": "dfd2e100",
   "metadata": {
    "ExecuteTime": {
     "end_time": "2024-08-10T03:20:33.651063Z",
     "start_time": "2024-08-10T03:20:33.572050Z"
    }
   },
   "outputs": [],
   "source": [
    "import os \n",
    "import sys \n",
    "from decouple import config \n",
    "MAIN_PATH = 'C:/Users/davet/Desktop/Thesis/G2P2C/'\n",
    "sys.path.insert(1, MAIN_PATH)\n",
    "from visualiser.core import experiment_error_check\n",
    "from visualiser.statistics import get_summary_stats, compare_algorithms\n",
    "\n",
    "# First we quickly check and verify that the RL experiments have properly completed based on the \n",
    "# general template/guidelines used. You can customise additional parameters, check func \"experiment_error_check\".\n",
    "# experiment_error_check(cohort=\"adolescent\", algorithm='PPO', algoAbbreviation='P', subjects=['0', '2', '6'])\n",
    "result_path = {'TD3_1':'results/L2Norm_LR1e-1/NoCutOff/NoiseApplication/TD3/Model1/OUNoise/sigma_1e0',\n",
    "               'TD3_2':'results/L2Norm_LR1e-1/NoCutOff/NoiseApplication/TD3/Model1/OUNoise/sigma_2e-1',\n",
    "               'TD3_3':'results/L2Norm_LR1e-1/NoCutOff/NoiseApplication/TD3/Model1/OUNoise/sigma_5e-2'}"
   ]
  },
  {
   "cell_type": "markdown",
   "id": "06bc35a1",
   "metadata": {},
   "source": [
    "We calculate statistics (individual/cohort-levels) for identified clinical and RL metrics.\n",
    "Target_metrics are time in normoglycemia (TIR), hypoglycemia, hyperglycemia, severe hypoglycemia, Severe hyperglycemia, LBGI (Low Blood Glucose Index), HBGI (High Blood Glucose Index), RI (Risk Index), Failure Rate, Reward."
   ]
  },
  {
   "cell_type": "code",
   "execution_count": 15,
   "id": "010ecd42",
   "metadata": {
    "scrolled": false,
    "ExecuteTime": {
     "end_time": "2024-08-10T03:22:19.704749Z",
     "start_time": "2024-08-10T03:22:07.433098Z"
    }
   },
   "outputs": [
    {
     "name": "stdout",
     "output_type": "stream",
     "text": [
      "\n",
      "Summary statistics for adolescent cohort, TD3_1 Algorithm\n",
      "\n",
      "Summarised cohort statistics (mean):\n",
      "    normo  hypo  hyper  S_hypo  S_hyper  lgbi  hgbi     ri  reward   fail\n",
      "id                                                                       \n",
      "6   70.77  1.76  10.15    2.46    14.86  9.83  9.99  19.82  132.09  100.0\n",
      "\n",
      "Averaged cohort statistics:\n",
      "      normo  hypo  hyper  S_hypo  S_hyper   lgbi   hgbi     ri  reward   fail\n",
      "25%   63.56  0.00   6.12    0.00    10.53   0.07   6.72  13.81  114.31  100.0\n",
      "50%   73.43  1.41   9.09    2.14    11.72  12.64   8.95  20.37  123.38  100.0\n",
      "75%   77.40  2.33  13.48    3.42    21.47  14.79  13.15  23.73  154.06  100.0\n",
      "mean  70.77  1.76  10.15    2.46    14.86   9.83   9.99  19.82  132.09  100.0\n",
      "std    7.24  2.13   4.59    2.27     5.71   6.75   3.27   5.35   19.15  100.0\n",
      "====================================================================================================\n",
      "\n",
      "Summary statistics for adolescent cohort, TD3_2 Algorithm\n",
      "\n",
      "Summarised cohort statistics (mean):\n",
      "    normo  hypo  hyper  S_hypo  S_hyper  lgbi  hgbi     ri  reward   fail\n",
      "id                                                                       \n",
      "6   75.53  5.08   7.17    4.04     8.18  6.27  7.56  13.83  135.45  99.27\n",
      "\n",
      "Averaged cohort statistics:\n",
      "      normo  hypo  hyper  S_hypo  S_hyper  lgbi   hgbi     ri  reward   fail\n",
      "25%   70.44  2.11   6.21    2.14     4.29  4.44   4.44  10.07  119.94  99.27\n",
      "50%   77.99  4.00   7.00    3.05     6.90  5.62   6.38  12.63  124.75  99.27\n",
      "75%   81.38  6.08   8.08    5.13    15.12  7.18  10.79  17.71  163.40  99.27\n",
      "mean  75.53  5.08   7.17    4.04     8.18  6.27   7.56  13.83  135.45  99.27\n",
      "std    7.55  4.66   2.03    2.84     5.85  2.70   3.89   4.62   27.47  99.27\n",
      "====================================================================================================\n",
      "\n",
      "Summary statistics for adolescent cohort, TD3_3 Algorithm\n",
      "\n",
      "Summarised cohort statistics (mean):\n",
      "    normo  hypo  hyper  S_hypo  S_hyper  lgbi   hgbi    ri  reward   fail\n",
      "id                                                                       \n",
      "6   62.95  2.93   9.22    2.08    22.82  3.39  16.52  19.9   193.1  56.67\n",
      "\n",
      "Averaged cohort statistics:\n",
      "      normo  hypo  hyper  S_hypo  S_hyper  lgbi   hgbi     ri  reward   fail\n",
      "25%   50.69  0.00   7.14    0.00    14.94  0.78  12.86  17.53  163.02  56.67\n",
      "50%   65.87  1.95   8.68    1.38    18.10  3.24  16.47  20.96  179.84  56.67\n",
      "75%   70.56  5.29  11.11    3.21    37.15  5.19  21.29  22.77  228.28  56.67\n",
      "mean  62.95  2.93   9.22    2.08    22.82  3.39  16.52  19.90  193.10  56.67\n",
      "std   10.24  3.10   2.65    2.48    11.11  2.53   5.02   3.87   37.42  56.67\n"
     ]
    },
    {
     "data": {
      "text/plain": "      normo  hypo  hyper  S_hypo  S_hyper  lgbi   hgbi     ri  reward   fail\n25%   50.69  0.00   7.14    0.00    14.94  0.78  12.86  17.53  163.02  56.67\n50%   65.87  1.95   8.68    1.38    18.10  3.24  16.47  20.96  179.84  56.67\n75%   70.56  5.29  11.11    3.21    37.15  5.19  21.29  22.77  228.28  56.67\nmean  62.95  2.93   9.22    2.08    22.82  3.39  16.52  19.90  193.10  56.67\nstd   10.24  3.10   2.65    2.48    11.11  2.53   5.02   3.87   37.42  56.67",
      "text/html": "<div>\n<style scoped>\n    .dataframe tbody tr th:only-of-type {\n        vertical-align: middle;\n    }\n\n    .dataframe tbody tr th {\n        vertical-align: top;\n    }\n\n    .dataframe thead th {\n        text-align: right;\n    }\n</style>\n<table border=\"1\" class=\"dataframe\">\n  <thead>\n    <tr style=\"text-align: right;\">\n      <th></th>\n      <th>normo</th>\n      <th>hypo</th>\n      <th>hyper</th>\n      <th>S_hypo</th>\n      <th>S_hyper</th>\n      <th>lgbi</th>\n      <th>hgbi</th>\n      <th>ri</th>\n      <th>reward</th>\n      <th>fail</th>\n    </tr>\n  </thead>\n  <tbody>\n    <tr>\n      <th>25%</th>\n      <td>50.69</td>\n      <td>0.00</td>\n      <td>7.14</td>\n      <td>0.00</td>\n      <td>14.94</td>\n      <td>0.78</td>\n      <td>12.86</td>\n      <td>17.53</td>\n      <td>163.02</td>\n      <td>56.67</td>\n    </tr>\n    <tr>\n      <th>50%</th>\n      <td>65.87</td>\n      <td>1.95</td>\n      <td>8.68</td>\n      <td>1.38</td>\n      <td>18.10</td>\n      <td>3.24</td>\n      <td>16.47</td>\n      <td>20.96</td>\n      <td>179.84</td>\n      <td>56.67</td>\n    </tr>\n    <tr>\n      <th>75%</th>\n      <td>70.56</td>\n      <td>5.29</td>\n      <td>11.11</td>\n      <td>3.21</td>\n      <td>37.15</td>\n      <td>5.19</td>\n      <td>21.29</td>\n      <td>22.77</td>\n      <td>228.28</td>\n      <td>56.67</td>\n    </tr>\n    <tr>\n      <th>mean</th>\n      <td>62.95</td>\n      <td>2.93</td>\n      <td>9.22</td>\n      <td>2.08</td>\n      <td>22.82</td>\n      <td>3.39</td>\n      <td>16.52</td>\n      <td>19.90</td>\n      <td>193.10</td>\n      <td>56.67</td>\n    </tr>\n    <tr>\n      <th>std</th>\n      <td>10.24</td>\n      <td>3.10</td>\n      <td>2.65</td>\n      <td>2.48</td>\n      <td>11.11</td>\n      <td>2.53</td>\n      <td>5.02</td>\n      <td>3.87</td>\n      <td>37.42</td>\n      <td>56.67</td>\n    </tr>\n  </tbody>\n</table>\n</div>"
     },
     "execution_count": 15,
     "metadata": {},
     "output_type": "execute_result"
    }
   ],
   "source": [
    "# metrics and stats for RL agents and clinical, for a selected algorthm.\n",
    "# Check parameters to get more information being calculated.\n",
    "# Normal flow in the calculation: \n",
    "# For each subject, looking at 1500 simulations we calculate the metrics, you can get inter-quartile, mean, std etc.\n",
    "# Using the mean for each metric we calculate cohort level metrics and statistics \n",
    "    \n",
    "# get_summary_stats(cohort=\"adolescent\", algo_type='rl', algorithm='G2P2C', algoAbbreviation='G', \n",
    "#                   metric=['50%', '25%', '75%','mean', 'std'], \n",
    "#                   verbose=False, show_res=True, sort=[False, 'hgbi'],\n",
    "#                   subjects=['0', '2', '6'])\n",
    "# \n",
    "# get_summary_stats(cohort=\"adolescent\", algo_type='clinical', algorithm='BBI', algoAbbreviation='BBI', \n",
    "#                   metric=['50%', '25%', '75%','mean', 'std'], \n",
    "#                   verbose=False, show_res=True, sort=[False, 'hgbi'],\n",
    "#                   subjects=['0', '2', '6'])\n",
    "# patient = '0'\n",
    "# patient = '2'\n",
    "patient = '6'\n",
    "get_summary_stats(cohort=\"adolescent\", algo_type='rl', algorithm='TD3_1', algoAbbreviation='TD3', \n",
    "                  metric=['25%', '50%', '75%','mean', 'std'], \n",
    "                  verbose=False, show_res=True, sort=[False, 'hgbi'],\n",
    "                  # subjects=['0', '2', '6'],\n",
    "                  subjects=[patient],\n",
    "                  result_path=result_path)\n",
    "print(\"=\"*100)\n",
    "get_summary_stats(cohort=\"adolescent\", algo_type='rl', algorithm='TD3_2', algoAbbreviation='TD3', \n",
    "                  metric=['25%', '50%', '75%','mean', 'std'], \n",
    "                  verbose=False, show_res=True, sort=[False, 'hgbi'],\n",
    "                  # subjects=['0', '2', '6'],\n",
    "                  subjects=[patient],\n",
    "                  result_path=result_path)\n",
    "print(\"=\"*100)\n",
    "get_summary_stats(cohort=\"adolescent\", algo_type='rl', algorithm='TD3_3', algoAbbreviation='TD3', \n",
    "                  metric=['25%', '50%', '75%','mean', 'std'], \n",
    "                  verbose=False, show_res=True, sort=[False, 'hgbi'],\n",
    "                  # subjects=['0', '2', '6'],\n",
    "                  subjects=[patient],\n",
    "                  result_path=result_path)\n",
    "\n",
    "\n"
   ]
  },
  {
   "cell_type": "code",
   "execution_count": 31,
   "id": "9a41397f",
   "metadata": {
    "ExecuteTime": {
     "end_time": "2024-07-11T02:34:10.487695Z",
     "start_time": "2024-07-11T02:33:27.532251Z"
    }
   },
   "outputs": [
    {
     "name": "stdout",
     "output_type": "stream",
     "text": [
      "\n",
      "Compare algorithm performance for the adolescent cohort\n",
      "      normo  hypo  hyper  S_hypo  S_hyper  lgbi   hgbi     ri  reward    fail\n",
      "Algo                                                                         \n",
      "TD1   24.96  0.00  24.16    0.00    50.89  0.04  33.85  33.89  111.62  100.00\n",
      "TD2   24.96  0.00  24.16    0.00    50.89  0.04  33.85  33.89  111.62  100.00\n",
      "TD3   35.22  0.72  22.50    0.39    41.17  1.56  27.94  29.50  141.27   83.89\n"
     ]
    },
    {
     "data": {
      "text/plain": "      normo  hypo  hyper  S_hypo  S_hyper  lgbi   hgbi     ri  reward    fail\nAlgo                                                                         \nTD1   24.96  0.00  24.16    0.00    50.89  0.04  33.85  33.89  111.62  100.00\nTD2   24.96  0.00  24.16    0.00    50.89  0.04  33.85  33.89  111.62  100.00\nTD3   35.22  0.72  22.50    0.39    41.17  1.56  27.94  29.50  141.27   83.89",
      "text/html": "<div>\n<style scoped>\n    .dataframe tbody tr th:only-of-type {\n        vertical-align: middle;\n    }\n\n    .dataframe tbody tr th {\n        vertical-align: top;\n    }\n\n    .dataframe thead th {\n        text-align: right;\n    }\n</style>\n<table border=\"1\" class=\"dataframe\">\n  <thead>\n    <tr style=\"text-align: right;\">\n      <th></th>\n      <th>normo</th>\n      <th>hypo</th>\n      <th>hyper</th>\n      <th>S_hypo</th>\n      <th>S_hyper</th>\n      <th>lgbi</th>\n      <th>hgbi</th>\n      <th>ri</th>\n      <th>reward</th>\n      <th>fail</th>\n    </tr>\n    <tr>\n      <th>Algo</th>\n      <th></th>\n      <th></th>\n      <th></th>\n      <th></th>\n      <th></th>\n      <th></th>\n      <th></th>\n      <th></th>\n      <th></th>\n      <th></th>\n    </tr>\n  </thead>\n  <tbody>\n    <tr>\n      <th>TD1</th>\n      <td>24.96</td>\n      <td>0.00</td>\n      <td>24.16</td>\n      <td>0.00</td>\n      <td>50.89</td>\n      <td>0.04</td>\n      <td>33.85</td>\n      <td>33.89</td>\n      <td>111.62</td>\n      <td>100.00</td>\n    </tr>\n    <tr>\n      <th>TD2</th>\n      <td>24.96</td>\n      <td>0.00</td>\n      <td>24.16</td>\n      <td>0.00</td>\n      <td>50.89</td>\n      <td>0.04</td>\n      <td>33.85</td>\n      <td>33.89</td>\n      <td>111.62</td>\n      <td>100.00</td>\n    </tr>\n    <tr>\n      <th>TD3</th>\n      <td>35.22</td>\n      <td>0.72</td>\n      <td>22.50</td>\n      <td>0.39</td>\n      <td>41.17</td>\n      <td>1.56</td>\n      <td>27.94</td>\n      <td>29.50</td>\n      <td>141.27</td>\n      <td>83.89</td>\n    </tr>\n  </tbody>\n</table>\n</div>"
     },
     "execution_count": 31,
     "metadata": {},
     "output_type": "execute_result"
    }
   ],
   "source": [
    "# Adolescents\n",
    "compare_algorithms(cohort=\"adolescent\", \n",
    "                   algo_types= ['rl', 'rl', 'rl', 'rl'],\n",
    "                   algos=['DDPG1', 'DDPG2', 'DDPG3'], \n",
    "                   abbreviations=['DDPG', 'DDPG', 'DDPG'],\n",
    "                   subjects=['0', '2', '6'],\n",
    "                   result_path=result_path)"
   ]
  },
  {
   "cell_type": "code",
   "execution_count": null,
   "id": "076b5f73",
   "metadata": {},
   "outputs": [],
   "source": []
  }
 ],
 "metadata": {
  "kernelspec": {
   "display_name": "Python 3 (ipykernel)",
   "language": "python",
   "name": "python3"
  },
  "language_info": {
   "codemirror_mode": {
    "name": "ipython",
    "version": 3
   },
   "file_extension": ".py",
   "mimetype": "text/x-python",
   "name": "python",
   "nbconvert_exporter": "python",
   "pygments_lexer": "ipython3",
   "version": "3.10.12"
  }
 },
 "nbformat": 4,
 "nbformat_minor": 5
}
