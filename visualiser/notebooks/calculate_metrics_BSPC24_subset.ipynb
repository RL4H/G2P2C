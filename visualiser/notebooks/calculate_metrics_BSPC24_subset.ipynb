{
 "cells": [
  {
   "cell_type": "markdown",
   "id": "74f521ab",
   "metadata": {},
   "source": [
    "This Notebook is used to calculate the summary statistics for both clinical and RL-algorithms.\n",
    "\n",
    "For RL algorithms: <br>\n",
    "The results for experiments will be saved under \"results/FOLDER_ID/AlgoSub_SEED\".<br>\n",
    "e.g., 'results/adult/G0_1'; G2P2C algorithm for adult subject 0 and seed 1."
   ]
  },
  {
   "cell_type": "code",
   "execution_count": 15,
   "id": "dfd2e100",
   "metadata": {
    "ExecuteTime": {
     "end_time": "2024-08-31T20:17:25.331376Z",
     "start_time": "2024-08-31T20:17:25.326874Z"
    }
   },
   "outputs": [],
   "source": [
    "import os \n",
    "import sys \n",
    "from decouple import config \n",
    "MAIN_PATH = 'C:/Users/davet/Desktop/Thesis/G2P2C/'\n",
    "sys.path.insert(1, MAIN_PATH)\n",
    "from visualiser.core import experiment_error_check\n",
    "from visualiser.statistics import get_summary_stats, compare_algorithms\n",
    "\n",
    "# First we quickly check and verify that the RL experiments have properly completed based on the \n",
    "# general template/guidelines used. You can customise additional parameters, check func \"experiment_error_check\".\n",
    "# experiment_error_check(cohort=\"adolescent\", algorithm='PPO', algoAbbreviation='P', subjects=['0', '2', '6'])\n",
    "result_path = {'TD3_1':'results/PER_Study/Per_Proportional/TD3/alpha_075/beta_0/',\n",
    "               'TD3_2':'results/PER_Study/Per_Proportional/TD3/alpha_1/beta_05/',\n",
    "               'TD3_3':'results/PER_Study/Temporal/TD3/Random/gamma_0999/',\n",
    "               'TD3_4':'results/PER_Study/Temporal/TD3/Random/gamma_09999/',\n",
    "               'TD3_5':'results/PER_Study/Temporal/TD3/Random/gamma_09999/',\n",
    "               }"
   ]
  },
  {
   "cell_type": "markdown",
   "id": "06bc35a1",
   "metadata": {},
   "source": [
    "We calculate statistics (individual/cohort-levels) for identified clinical and RL metrics.\n",
    "Target_metrics are time in normoglycemia (TIR), hypoglycemia, hyperglycemia, severe hypoglycemia, Severe hyperglycemia, LBGI (Low Blood Glucose Index), HBGI (High Blood Glucose Index), RI (Risk Index), Failure Rate, Reward."
   ]
  },
  {
   "cell_type": "code",
   "execution_count": 18,
   "id": "010ecd42",
   "metadata": {
    "scrolled": false,
    "ExecuteTime": {
     "end_time": "2024-08-31T20:18:46.302212Z",
     "start_time": "2024-08-31T20:18:40.136133Z"
    }
   },
   "outputs": [
    {
     "name": "stdout",
     "output_type": "stream",
     "text": [
      "\n",
      "Summary statistics for adolescent cohort, TD3_1 Algorithm\n",
      "\n",
      "Summarised cohort statistics (mean):\n",
      "    normo  hypo  hyper  S_hypo  S_hyper  lgbi   hgbi     ri  reward   fail\n",
      "id                                                                        \n",
      "6   65.16  2.13  11.07    1.39    20.26  3.49  15.57  19.06  187.19  66.67\n",
      "\n",
      "Averaged cohort statistics:\n",
      "      normo  hypo  hyper  S_hypo  S_hyper  lgbi   hgbi     ri  reward   fail\n",
      "25%   59.03  0.00   9.09    0.00    14.92  0.75  12.42  17.16  160.08  66.67\n",
      "50%   65.28  0.00  10.85    0.00    17.42  2.50  15.35  20.09  171.54  66.67\n",
      "75%   70.05  3.77  12.78    1.91    30.21  5.59  19.81  20.90  232.63  66.67\n",
      "mean  65.16  2.13  11.07    1.39    20.26  3.49  15.57  19.06  187.19  66.67\n",
      "std    6.37  2.86   2.77    2.26     8.42  3.12   4.40   3.58   35.06  66.67\n",
      "\n",
      "Summary statistics for adolescent cohort, TD3_2 Algorithm\n",
      "\n",
      "Summarised cohort statistics (mean):\n",
      "    normo  hypo  hyper  S_hypo  S_hyper  lgbi   hgbi     ri  reward   fail\n",
      "id                                                                        \n",
      "6   59.45  2.99  13.75    1.65    22.17  2.38  15.33  17.71  133.91  98.93\n",
      "\n",
      "Averaged cohort statistics:\n",
      "      normo  hypo  hyper  S_hypo  S_hyper  lgbi   hgbi     ri  reward   fail\n",
      "25%   46.24  0.00   8.29    0.00     4.86  0.00   7.46  13.51  122.38  98.93\n",
      "50%   59.78  0.00  12.99    0.00    23.16  0.00  14.85  15.06  130.56  98.93\n",
      "75%   72.03  2.78  17.92    2.80    39.31  4.96  24.01  24.21  150.15  98.93\n",
      "mean  59.45  2.99  13.75    1.65    22.17  2.38  15.33  17.71  133.91  98.93\n",
      "std   15.33  5.82   6.50    2.81    14.69  3.55   7.51   5.57   21.41  98.93\n"
     ]
    }
   ],
   "source": [
    "# metrics and stats for RL agents and clinical, for a selected algorthm.\n",
    "# Check parameters to get more information being calculated.\n",
    "# Normal flow in the calculation: \n",
    "# For each subject, looking at 1500 simulations we calculate the metrics, you can get inter-quartile, mean, std etc.\n",
    "# Using the mean for each metric we calculate cohort level metrics and statistics \n",
    "    \n",
    "# get_summary_stats(cohort=\"adolescent\", algo_type='rl', algorithm='G2P2C', algoAbbreviation='G', \n",
    "#                   metric=['50%', '25%', '75%','mean', 'std'], \n",
    "#                   verbose=False, show_res=True, sort=[False, 'hgbi'],\n",
    "#                   subjects=['0', '2', '6'])\n",
    "# \n",
    "# get_summary_stats(cohort=\"adolescent\", algo_type='clinical', algorithm='BBI', algoAbbreviation='BBI', \n",
    "#                   metric=['50%', '25%', '75%','mean', 'std'], \n",
    "#                   verbose=False, show_res=True, sort=[False, 'hgbi'],\n",
    "#                   subjects=['0', '2', '6'])\n",
    "# patient = '0'\n",
    "# patient = '2'\n",
    "patient = '6'\n",
    "\n",
    "for i in range(1,3):\n",
    "    get_summary_stats(cohort=\"adolescent\", algo_type='rl', algorithm='TD3_'+str(i), algoAbbreviation='TD3', \n",
    "                      metric=['25%', '50%', '75%','mean', 'std'], \n",
    "                      verbose=False, show_res=True, sort=[False, 'hgbi'],\n",
    "                      # subjects=['0', '2', '6'],\n",
    "                      subjects=[patient],\n",
    "                      result_path=result_path)\n",
    "\n",
    "\n",
    "# for pat in [patient]:\n",
    "#     get_summary_stats(cohort=\"adolescent\", algo_type='rl', algorithm='TD3'+pat, algoAbbreviation='TD3', \n",
    "#                   metric=['25%', '50%', '75%','mean', 'std'], \n",
    "#                   verbose=False, show_res=True, sort=[False, 'hgbi'],\n",
    "#                   # subjects=['0', '2', '6'],\n",
    "#                   subjects=[pat],\n",
    "#                   result_path=result_path)\n",
    "# get_summary_stats(cohort=\"adolescent\", algo_type='rl', algorithm='PPO_1', algoAbbreviation='P', \n",
    "#                   metric=['25%', '50%', '75%','mean', 'std'], \n",
    "#                   verbose=False, show_res=True, sort=[False, 'hgbi'],\n",
    "#                   # subjects=['0', '2', '6'],\n",
    "#                   subjects=[patient],\n",
    "#                   result_path=result_path)\n",
    "# print(\"=\"*100)\n",
    "# get_summary_stats(cohort=\"adolescent\", algo_type='rl', algorithm='PPO_2', algoAbbreviation='P', \n",
    "#                   metric=['25%', '50%', '75%','mean', 'std'], \n",
    "#                   verbose=False, show_res=True, sort=[False, 'hgbi'],\n",
    "#                   # subjects=['0', '2', '6'],\n",
    "#                   subjects=[patient],\n",
    "#                   result_path=result_path)\n",
    "# print(\"=\"*100)\n",
    "# get_summary_stats(cohort=\"adolescent\", algo_type='rl', algorithm='PPO_3', algoAbbreviation='P', \n",
    "#                   metric=['25%', '50%', '75%','mean', 'std'], \n",
    "#                   verbose=False, show_res=True, sort=[False, 'hgbi'],\n",
    "#                   # subjects=['0', '2', '6'],\n",
    "#                   subjects=[patient],\n",
    "#                   result_path=result_path)\n",
    "\n",
    "\n"
   ]
  },
  {
   "cell_type": "code",
   "execution_count": 31,
   "id": "9a41397f",
   "metadata": {
    "ExecuteTime": {
     "end_time": "2024-07-11T02:34:10.487695Z",
     "start_time": "2024-07-11T02:33:27.532251Z"
    }
   },
   "outputs": [
    {
     "name": "stdout",
     "output_type": "stream",
     "text": [
      "\n",
      "Compare algorithm performance for the adolescent cohort\n",
      "      normo  hypo  hyper  S_hypo  S_hyper  lgbi   hgbi     ri  reward    fail\n",
      "Algo                                                                         \n",
      "TD1   24.96  0.00  24.16    0.00    50.89  0.04  33.85  33.89  111.62  100.00\n",
      "TD2   24.96  0.00  24.16    0.00    50.89  0.04  33.85  33.89  111.62  100.00\n",
      "TD3   35.22  0.72  22.50    0.39    41.17  1.56  27.94  29.50  141.27   83.89\n"
     ]
    },
    {
     "data": {
      "text/plain": "      normo  hypo  hyper  S_hypo  S_hyper  lgbi   hgbi     ri  reward    fail\nAlgo                                                                         \nTD1   24.96  0.00  24.16    0.00    50.89  0.04  33.85  33.89  111.62  100.00\nTD2   24.96  0.00  24.16    0.00    50.89  0.04  33.85  33.89  111.62  100.00\nTD3   35.22  0.72  22.50    0.39    41.17  1.56  27.94  29.50  141.27   83.89",
      "text/html": "<div>\n<style scoped>\n    .dataframe tbody tr th:only-of-type {\n        vertical-align: middle;\n    }\n\n    .dataframe tbody tr th {\n        vertical-align: top;\n    }\n\n    .dataframe thead th {\n        text-align: right;\n    }\n</style>\n<table border=\"1\" class=\"dataframe\">\n  <thead>\n    <tr style=\"text-align: right;\">\n      <th></th>\n      <th>normo</th>\n      <th>hypo</th>\n      <th>hyper</th>\n      <th>S_hypo</th>\n      <th>S_hyper</th>\n      <th>lgbi</th>\n      <th>hgbi</th>\n      <th>ri</th>\n      <th>reward</th>\n      <th>fail</th>\n    </tr>\n    <tr>\n      <th>Algo</th>\n      <th></th>\n      <th></th>\n      <th></th>\n      <th></th>\n      <th></th>\n      <th></th>\n      <th></th>\n      <th></th>\n      <th></th>\n      <th></th>\n    </tr>\n  </thead>\n  <tbody>\n    <tr>\n      <th>TD1</th>\n      <td>24.96</td>\n      <td>0.00</td>\n      <td>24.16</td>\n      <td>0.00</td>\n      <td>50.89</td>\n      <td>0.04</td>\n      <td>33.85</td>\n      <td>33.89</td>\n      <td>111.62</td>\n      <td>100.00</td>\n    </tr>\n    <tr>\n      <th>TD2</th>\n      <td>24.96</td>\n      <td>0.00</td>\n      <td>24.16</td>\n      <td>0.00</td>\n      <td>50.89</td>\n      <td>0.04</td>\n      <td>33.85</td>\n      <td>33.89</td>\n      <td>111.62</td>\n      <td>100.00</td>\n    </tr>\n    <tr>\n      <th>TD3</th>\n      <td>35.22</td>\n      <td>0.72</td>\n      <td>22.50</td>\n      <td>0.39</td>\n      <td>41.17</td>\n      <td>1.56</td>\n      <td>27.94</td>\n      <td>29.50</td>\n      <td>141.27</td>\n      <td>83.89</td>\n    </tr>\n  </tbody>\n</table>\n</div>"
     },
     "execution_count": 31,
     "metadata": {},
     "output_type": "execute_result"
    }
   ],
   "source": [
    "# Adolescents\n",
    "compare_algorithms(cohort=\"adolescent\", \n",
    "                   algo_types= ['rl', 'rl', 'rl', 'rl'],\n",
    "                   algos=['DDPG1', 'DDPG2', 'DDPG3'], \n",
    "                   abbreviations=['DDPG', 'DDPG', 'DDPG'],\n",
    "                   subjects=['0', '2', '6'],\n",
    "                   result_path=result_path)"
   ]
  },
  {
   "cell_type": "code",
   "execution_count": null,
   "id": "076b5f73",
   "metadata": {},
   "outputs": [],
   "source": []
  }
 ],
 "metadata": {
  "kernelspec": {
   "display_name": "Python 3 (ipykernel)",
   "language": "python",
   "name": "python3"
  },
  "language_info": {
   "codemirror_mode": {
    "name": "ipython",
    "version": 3
   },
   "file_extension": ".py",
   "mimetype": "text/x-python",
   "name": "python",
   "nbconvert_exporter": "python",
   "pygments_lexer": "ipython3",
   "version": "3.10.12"
  }
 },
 "nbformat": 4,
 "nbformat_minor": 5
}
