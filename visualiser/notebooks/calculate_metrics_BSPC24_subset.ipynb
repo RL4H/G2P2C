{
 "cells": [
  {
   "cell_type": "markdown",
   "id": "74f521ab",
   "metadata": {},
   "source": [
    "This Notebook is used to calculate the summary statistics for both clinical and RL-algorithms.\n",
    "\n",
    "For RL algorithms: <br>\n",
    "The results for experiments will be saved under \"results/FOLDER_ID/AlgoSub_SEED\".<br>\n",
    "e.g., 'results/adult/G0_1'; G2P2C algorithm for adult subject 0 and seed 1."
   ]
  },
  {
   "cell_type": "code",
   "execution_count": 5,
   "id": "dfd2e100",
   "metadata": {
    "ExecuteTime": {
     "end_time": "2024-07-23T10:10:58.338907Z",
     "start_time": "2024-07-23T10:10:58.323904Z"
    }
   },
   "outputs": [],
   "source": [
    "import os \n",
    "import sys \n",
    "from decouple import config \n",
    "MAIN_PATH = 'C:/Users/davet/Desktop/Thesis/G2P2C/'\n",
    "sys.path.insert(1, MAIN_PATH)\n",
    "from visualiser.core import experiment_error_check\n",
    "from visualiser.statistics import get_summary_stats, compare_algorithms\n",
    "\n",
    "# First we quickly check and verify that the RL experiments have properly completed based on the \n",
    "# general template/guidelines used. You can customise additional parameters, check func \"experiment_error_check\".\n",
    "# experiment_error_check(cohort=\"adolescent\", algorithm='PPO', algoAbbreviation='P', subjects=['0', '2', '6'])\n",
    "result_path = {'TD3_4':'results/EU59Experiments/PenaltyTermSensitivity/TD3/NoCutOff/coefficient5e-2',\n",
    "               'TD3_5':'results/EU59Experiments/PenaltyTermSensitivity/TD3/NoCutOff/coefficient2e-2',\n",
    "               'TD3_6':'results/EU59Experiments/PenaltyTermSensitivity/TD3/NoCutOff/coefficient5e-3'}"
   ]
  },
  {
   "cell_type": "markdown",
   "id": "06bc35a1",
   "metadata": {},
   "source": [
    "We calculate statistics (individual/cohort-levels) for identified clinical and RL metrics.\n",
    "Target_metrics are time in normoglycemia (TIR), hypoglycemia, hyperglycemia, severe hypoglycemia, Severe hyperglycemia, LBGI (Low Blood Glucose Index), HBGI (High Blood Glucose Index), RI (Risk Index), Failure Rate, Reward."
   ]
  },
  {
   "cell_type": "code",
   "execution_count": 6,
   "id": "010ecd42",
   "metadata": {
    "scrolled": false,
    "ExecuteTime": {
     "end_time": "2024-07-23T10:11:30.071476Z",
     "start_time": "2024-07-23T10:11:01.255407Z"
    }
   },
   "outputs": [
    {
     "name": "stdout",
     "output_type": "stream",
     "text": [
      "\n",
      "Summary statistics for adolescent cohort, TD3_4 Algorithm\n",
      "\n",
      "Summarised cohort statistics (mean):\n",
      "    normo  hypo  hyper  S_hypo  S_hyper  lgbi   hgbi     ri  reward   fail\n",
      "id                                                                        \n",
      "0   78.55  4.75  14.94    1.70     0.07  3.19   3.91   7.11  256.18  12.20\n",
      "2   48.81  4.16  19.98    4.38    22.67  9.94  16.75  26.69  158.30  59.33\n",
      "6   55.88  3.54  16.04    2.46    22.07  5.75  16.90  22.66  161.40  90.47\n",
      "\n",
      "Averaged cohort statistics:\n",
      "      normo  hypo  hyper  S_hypo  S_hyper   lgbi   hgbi     ri  reward  fail\n",
      "25%   52.43  0.00   7.58    0.00     0.00   0.22   3.46   7.95  144.94  54.0\n",
      "50%   60.42  0.69  15.47    1.06    14.29   4.86  10.67  15.11  182.26  54.0\n",
      "75%   75.00  7.21  27.08    3.96    22.87  10.77  17.66  26.11  268.65  54.0\n",
      "mean  61.08  4.15  16.99    2.85    14.94   6.30  12.52  18.82  191.96  54.0\n",
      "std   18.76  5.63  12.13    4.72    15.38   6.29   9.55  13.74   78.52  54.0\n",
      "====================================================================================================\n",
      "\n",
      "Summary statistics for adolescent cohort, TD3_5 Algorithm\n",
      "\n",
      "Summarised cohort statistics (mean):\n",
      "    normo  hypo  hyper  S_hypo  S_hyper  lgbi   hgbi     ri  reward   fail\n",
      "id                                                                        \n",
      "0   73.14  3.53  12.50    2.17     8.66  2.60   7.32   9.92  219.66  35.27\n",
      "2   31.43  0.01  22.18    0.02    46.37  0.21  29.31  29.52  155.06  66.20\n",
      "6   61.96  8.27  12.60    6.34    10.83  8.44  10.40  18.83  118.31  93.20\n",
      "\n",
      "Averaged cohort statistics:\n",
      "      normo  hypo  hyper  S_hypo  S_hyper  lgbi   hgbi     ri  reward   fail\n",
      "25%   36.26  0.00   6.47    0.00     0.00  0.00   4.00  10.48  107.73  64.89\n",
      "50%   54.15  0.00  17.71    0.00    18.06  0.22  12.25  14.57  126.49  64.89\n",
      "75%   80.42  5.31  23.96    2.94    37.85  7.00  29.46  33.75  248.41  64.89\n",
      "mean  55.51  3.94  15.76    2.84    21.95  3.75  15.68  19.42  164.35  64.89\n",
      "std   23.27  6.92  10.45    6.31    22.36  4.84  13.50  11.91   74.50  64.89\n",
      "====================================================================================================\n",
      "\n",
      "Summary statistics for adolescent cohort, TD3_6 Algorithm\n",
      "\n",
      "Summarised cohort statistics (mean):\n",
      "    normo  hypo  hyper  S_hypo  S_hyper  lgbi   hgbi     ri  reward   fail\n",
      "id                                                                        \n",
      "0   77.78  4.73  10.96    4.30     2.22  4.82   4.07   8.89  193.82  33.33\n",
      "2   47.33  0.84  20.71    0.86    30.26  5.63  23.10  28.73  175.78  78.20\n",
      "6   37.16  4.56  24.20    2.66    31.42  6.80  24.26  31.06  156.84  72.87\n",
      "\n",
      "Averaged cohort statistics:\n",
      "      normo  hypo  hyper  S_hypo  S_hyper   lgbi   hgbi     ri  reward   fail\n",
      "25%   33.97  0.00  10.76    0.00     3.12   0.35   5.91  10.29  121.19  61.47\n",
      "50%   48.06  0.48  19.44    0.00    26.74   2.79  21.57  25.48  170.51  61.47\n",
      "75%   73.00  3.72  28.07    2.08    39.53  10.55  28.80  32.29  262.72  61.47\n",
      "mean  54.09  3.38  18.63    2.61    21.30   5.75  17.14  22.89  175.48  61.47\n",
      "std   22.61  6.19  11.39    5.26    17.15   6.31  11.86  13.44   79.78  61.47\n"
     ]
    },
    {
     "data": {
      "text/plain": "      normo  hypo  hyper  S_hypo  S_hyper   lgbi   hgbi     ri  reward   fail\n25%   33.97  0.00  10.76    0.00     3.12   0.35   5.91  10.29  121.19  61.47\n50%   48.06  0.48  19.44    0.00    26.74   2.79  21.57  25.48  170.51  61.47\n75%   73.00  3.72  28.07    2.08    39.53  10.55  28.80  32.29  262.72  61.47\nmean  54.09  3.38  18.63    2.61    21.30   5.75  17.14  22.89  175.48  61.47\nstd   22.61  6.19  11.39    5.26    17.15   6.31  11.86  13.44   79.78  61.47",
      "text/html": "<div>\n<style scoped>\n    .dataframe tbody tr th:only-of-type {\n        vertical-align: middle;\n    }\n\n    .dataframe tbody tr th {\n        vertical-align: top;\n    }\n\n    .dataframe thead th {\n        text-align: right;\n    }\n</style>\n<table border=\"1\" class=\"dataframe\">\n  <thead>\n    <tr style=\"text-align: right;\">\n      <th></th>\n      <th>normo</th>\n      <th>hypo</th>\n      <th>hyper</th>\n      <th>S_hypo</th>\n      <th>S_hyper</th>\n      <th>lgbi</th>\n      <th>hgbi</th>\n      <th>ri</th>\n      <th>reward</th>\n      <th>fail</th>\n    </tr>\n  </thead>\n  <tbody>\n    <tr>\n      <th>25%</th>\n      <td>33.97</td>\n      <td>0.00</td>\n      <td>10.76</td>\n      <td>0.00</td>\n      <td>3.12</td>\n      <td>0.35</td>\n      <td>5.91</td>\n      <td>10.29</td>\n      <td>121.19</td>\n      <td>61.47</td>\n    </tr>\n    <tr>\n      <th>50%</th>\n      <td>48.06</td>\n      <td>0.48</td>\n      <td>19.44</td>\n      <td>0.00</td>\n      <td>26.74</td>\n      <td>2.79</td>\n      <td>21.57</td>\n      <td>25.48</td>\n      <td>170.51</td>\n      <td>61.47</td>\n    </tr>\n    <tr>\n      <th>75%</th>\n      <td>73.00</td>\n      <td>3.72</td>\n      <td>28.07</td>\n      <td>2.08</td>\n      <td>39.53</td>\n      <td>10.55</td>\n      <td>28.80</td>\n      <td>32.29</td>\n      <td>262.72</td>\n      <td>61.47</td>\n    </tr>\n    <tr>\n      <th>mean</th>\n      <td>54.09</td>\n      <td>3.38</td>\n      <td>18.63</td>\n      <td>2.61</td>\n      <td>21.30</td>\n      <td>5.75</td>\n      <td>17.14</td>\n      <td>22.89</td>\n      <td>175.48</td>\n      <td>61.47</td>\n    </tr>\n    <tr>\n      <th>std</th>\n      <td>22.61</td>\n      <td>6.19</td>\n      <td>11.39</td>\n      <td>5.26</td>\n      <td>17.15</td>\n      <td>6.31</td>\n      <td>11.86</td>\n      <td>13.44</td>\n      <td>79.78</td>\n      <td>61.47</td>\n    </tr>\n  </tbody>\n</table>\n</div>"
     },
     "execution_count": 6,
     "metadata": {},
     "output_type": "execute_result"
    }
   ],
   "source": [
    "# metrics and stats for RL agents and clinical, for a selected algorthm.\n",
    "# Check parameters to get more information being calculated.\n",
    "# Normal flow in the calculation: \n",
    "# For each subject, looking at 1500 simulations we calculate the metrics, you can get inter-quartile, mean, std etc.\n",
    "# Using the mean for each metric we calculate cohort level metrics and statistics \n",
    "    \n",
    "# get_summary_stats(cohort=\"adolescent\", algo_type='rl', algorithm='G2P2C', algoAbbreviation='G', \n",
    "#                   metric=['50%', '25%', '75%','mean', 'std'], \n",
    "#                   verbose=False, show_res=True, sort=[False, 'hgbi'],\n",
    "#                   subjects=['0', '2', '6'])\n",
    "# \n",
    "# get_summary_stats(cohort=\"adolescent\", algo_type='clinical', algorithm='BBI', algoAbbreviation='BBI', \n",
    "#                   metric=['50%', '25%', '75%','mean', 'std'], \n",
    "#                   verbose=False, show_res=True, sort=[False, 'hgbi'],\n",
    "#                   subjects=['0', '2', '6'])\n",
    "# patient = '0'\n",
    "# patient = '2'\n",
    "# patient = '6'\n",
    "get_summary_stats(cohort=\"adolescent\", algo_type='rl', algorithm='TD3_4', algoAbbreviation='TD3', \n",
    "                  metric=['25%', '50%', '75%','mean', 'std'], \n",
    "                  verbose=False, show_res=True, sort=[False, 'hgbi'],\n",
    "                  subjects=['0', '2', '6'],\n",
    "                  # subjects=[patient],\n",
    "                  result_path=result_path)\n",
    "print(\"=\"*100)\n",
    "get_summary_stats(cohort=\"adolescent\", algo_type='rl', algorithm='TD3_5', algoAbbreviation='TD3', \n",
    "                  metric=['25%', '50%', '75%','mean', 'std'], \n",
    "                  verbose=False, show_res=True, sort=[False, 'hgbi'],\n",
    "                  subjects=['0', '2', '6'],\n",
    "                  # subjects=[patient],\n",
    "                  result_path=result_path)\n",
    "print(\"=\"*100)\n",
    "get_summary_stats(cohort=\"adolescent\", algo_type='rl', algorithm='TD3_6', algoAbbreviation='TD3', \n",
    "                  metric=['25%', '50%', '75%','mean', 'std'], \n",
    "                  verbose=False, show_res=True, sort=[False, 'hgbi'],\n",
    "                  subjects=['0', '2', '6'],\n",
    "                  # subjects=[patient],\n",
    "                  result_path=result_path)\n",
    "\n",
    "\n"
   ]
  },
  {
   "cell_type": "code",
   "execution_count": 31,
   "id": "9a41397f",
   "metadata": {
    "ExecuteTime": {
     "end_time": "2024-07-11T02:34:10.487695Z",
     "start_time": "2024-07-11T02:33:27.532251Z"
    }
   },
   "outputs": [
    {
     "name": "stdout",
     "output_type": "stream",
     "text": [
      "\n",
      "Compare algorithm performance for the adolescent cohort\n",
      "      normo  hypo  hyper  S_hypo  S_hyper  lgbi   hgbi     ri  reward    fail\n",
      "Algo                                                                         \n",
      "TD1   24.96  0.00  24.16    0.00    50.89  0.04  33.85  33.89  111.62  100.00\n",
      "TD2   24.96  0.00  24.16    0.00    50.89  0.04  33.85  33.89  111.62  100.00\n",
      "TD3   35.22  0.72  22.50    0.39    41.17  1.56  27.94  29.50  141.27   83.89\n"
     ]
    },
    {
     "data": {
      "text/plain": "      normo  hypo  hyper  S_hypo  S_hyper  lgbi   hgbi     ri  reward    fail\nAlgo                                                                         \nTD1   24.96  0.00  24.16    0.00    50.89  0.04  33.85  33.89  111.62  100.00\nTD2   24.96  0.00  24.16    0.00    50.89  0.04  33.85  33.89  111.62  100.00\nTD3   35.22  0.72  22.50    0.39    41.17  1.56  27.94  29.50  141.27   83.89",
      "text/html": "<div>\n<style scoped>\n    .dataframe tbody tr th:only-of-type {\n        vertical-align: middle;\n    }\n\n    .dataframe tbody tr th {\n        vertical-align: top;\n    }\n\n    .dataframe thead th {\n        text-align: right;\n    }\n</style>\n<table border=\"1\" class=\"dataframe\">\n  <thead>\n    <tr style=\"text-align: right;\">\n      <th></th>\n      <th>normo</th>\n      <th>hypo</th>\n      <th>hyper</th>\n      <th>S_hypo</th>\n      <th>S_hyper</th>\n      <th>lgbi</th>\n      <th>hgbi</th>\n      <th>ri</th>\n      <th>reward</th>\n      <th>fail</th>\n    </tr>\n    <tr>\n      <th>Algo</th>\n      <th></th>\n      <th></th>\n      <th></th>\n      <th></th>\n      <th></th>\n      <th></th>\n      <th></th>\n      <th></th>\n      <th></th>\n      <th></th>\n    </tr>\n  </thead>\n  <tbody>\n    <tr>\n      <th>TD1</th>\n      <td>24.96</td>\n      <td>0.00</td>\n      <td>24.16</td>\n      <td>0.00</td>\n      <td>50.89</td>\n      <td>0.04</td>\n      <td>33.85</td>\n      <td>33.89</td>\n      <td>111.62</td>\n      <td>100.00</td>\n    </tr>\n    <tr>\n      <th>TD2</th>\n      <td>24.96</td>\n      <td>0.00</td>\n      <td>24.16</td>\n      <td>0.00</td>\n      <td>50.89</td>\n      <td>0.04</td>\n      <td>33.85</td>\n      <td>33.89</td>\n      <td>111.62</td>\n      <td>100.00</td>\n    </tr>\n    <tr>\n      <th>TD3</th>\n      <td>35.22</td>\n      <td>0.72</td>\n      <td>22.50</td>\n      <td>0.39</td>\n      <td>41.17</td>\n      <td>1.56</td>\n      <td>27.94</td>\n      <td>29.50</td>\n      <td>141.27</td>\n      <td>83.89</td>\n    </tr>\n  </tbody>\n</table>\n</div>"
     },
     "execution_count": 31,
     "metadata": {},
     "output_type": "execute_result"
    }
   ],
   "source": [
    "# Adolescents\n",
    "compare_algorithms(cohort=\"adolescent\", \n",
    "                   algo_types= ['rl', 'rl', 'rl', 'rl'],\n",
    "                   algos=['DDPG1', 'DDPG2', 'DDPG3'], \n",
    "                   abbreviations=['DDPG', 'DDPG', 'DDPG'],\n",
    "                   subjects=['0', '2', '6'],\n",
    "                   result_path=result_path)"
   ]
  },
  {
   "cell_type": "code",
   "execution_count": null,
   "id": "076b5f73",
   "metadata": {},
   "outputs": [],
   "source": []
  }
 ],
 "metadata": {
  "kernelspec": {
   "display_name": "Python 3 (ipykernel)",
   "language": "python",
   "name": "python3"
  },
  "language_info": {
   "codemirror_mode": {
    "name": "ipython",
    "version": 3
   },
   "file_extension": ".py",
   "mimetype": "text/x-python",
   "name": "python",
   "nbconvert_exporter": "python",
   "pygments_lexer": "ipython3",
   "version": "3.10.12"
  }
 },
 "nbformat": 4,
 "nbformat_minor": 5
}
