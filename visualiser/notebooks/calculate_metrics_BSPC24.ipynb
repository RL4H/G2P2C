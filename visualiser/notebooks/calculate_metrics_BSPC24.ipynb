{
 "cells": [
  {
   "cell_type": "markdown",
   "id": "74f521ab",
   "metadata": {},
   "source": [
    "This Notebook is used to calculate the summary statistics for both clinical and RL-algorithms.\n",
    "\n",
    "For RL algorithms: <br>\n",
    "The results for experiments will be saved under \"results/FOLDER_ID/AlgoSub_SEED\".<br>\n",
    "e.g., 'results/adult/G0_1'; G2P2C algorithm for adult subject 0 and seed 1."
   ]
  },
  {
   "cell_type": "code",
   "execution_count": 5,
   "id": "dfd2e100",
   "metadata": {
    "ExecuteTime": {
     "end_time": "2024-07-10T22:07:40.795693Z",
     "start_time": "2024-07-10T22:06:46.028200Z"
    }
   },
   "outputs": [
    {
     "name": "stdout",
     "output_type": "stream",
     "text": [
      "Checking Experiment Errors for adolescent cohort, PPO Algorithm\n",
      "Checking subject: 0\n",
      "Checking subject: 1\n",
      "Checking subject: 2\n",
      "Checking subject: 3\n",
      "Checking subject: 4\n",
      "Checking subject: 5\n",
      "Checking subject: 6\n",
      "Checking subject: 7\n",
      "Checking subject: 8\n",
      "Checking subject: 9\n",
      "Error checking is complete. No errors detected!\n"
     ]
    }
   ],
   "source": [
    "import os \n",
    "import sys \n",
    "from decouple import config \n",
    "MAIN_PATH = 'C:/Users/davet/Desktop/Thesis/G2P2C/'\n",
    "sys.path.insert(1, MAIN_PATH)\n",
    "from visualiser.core import experiment_error_check\n",
    "from visualiser.statistics import get_summary_stats, compare_algorithms\n",
    "\n",
    "# First we quickly check and verify that the RL experiments have properly completed based on the \n",
    "# general template/guidelines used. You can customise additional parameters, check func \"experiment_error_check\".\n",
    "experiment_error_check(cohort=\"adolescent\", algorithm='PPO', algoAbbreviation='P')"
   ]
  },
  {
   "cell_type": "markdown",
   "id": "06bc35a1",
   "metadata": {},
   "source": [
    "We calculate statistics (individual/cohort-levels) for identified clinical and RL metrics.\n",
    "Target_metrics are time in normoglycemia (TIR), hypoglycemia, hyperglycemia, severe hypoglycemia, Severe hyperglycemia, LBGI (Low Blood Glucose Index), HBGI (High Blood Glucose Index), RI (Risk Index), Failure Rate, Reward."
   ]
  },
  {
   "cell_type": "code",
   "execution_count": 6,
   "id": "010ecd42",
   "metadata": {
    "scrolled": false,
    "ExecuteTime": {
     "end_time": "2024-07-10T22:13:23.521587Z",
     "start_time": "2024-07-10T22:08:35.630695Z"
    }
   },
   "outputs": [
    {
     "name": "stdout",
     "output_type": "stream",
     "text": [
      "\n",
      "Summary statistics for adolescent cohort, G2P2C Algorithm\n",
      "\n",
      "Summarised cohort statistics (mean):\n",
      "    normo  hypo  hyper  S_hypo  S_hyper  lgbi   hgbi     ri  reward  fail\n",
      "id                                                                       \n",
      "0   95.97  0.04   3.98    0.00     0.00  0.51   2.35   2.86  282.20  0.00\n",
      "1   52.61  0.88  15.07    0.19    31.26  1.67  20.46  22.13  235.09  0.93\n",
      "2   59.23  0.55  26.07    0.15    14.00  1.34  10.90  12.25  259.24  1.33\n",
      "3   62.41  1.28  21.03    0.16    15.12  1.89  11.65  13.54  259.44  0.80\n",
      "4   57.70  1.16  20.04    0.16    20.94  1.74  13.57  15.30  253.93  0.87\n",
      "5   71.54  2.77  14.20    0.38    11.12  2.53  11.02  13.54  262.36  2.27\n",
      "6   58.87  1.00  11.95    0.13    28.05  1.59  21.92  23.51  231.97  5.60\n",
      "7   56.93  0.66  12.65    0.05    29.71  1.59  21.23  22.82  238.09  0.40\n",
      "8   71.69  0.51  17.86    0.03     9.91  1.14   8.61   9.75  268.13  0.20\n",
      "9   56.36  1.87  24.58    0.45    16.74  2.45  12.82  15.27  252.89  2.40\n",
      "\n",
      "Averaged cohort statistics:\n",
      "      normo  hypo  hyper  S_hypo  S_hyper  lgbi   hgbi     ri  reward  fail\n",
      "50%   60.76  0.00  15.97    0.00    15.97  1.17  12.24  14.29  258.89  1.48\n",
      "25%   55.56  0.00  12.50    0.00    10.07  0.52   9.75  11.20  240.82  1.48\n",
      "75%   70.14  1.04  21.88    0.00    28.12  2.26  19.48  20.74  266.18  1.48\n",
      "mean  64.33  1.07  16.74    0.17    17.69  1.65  13.45  15.10  254.33  1.48\n",
      "std   13.18  2.35   7.17    0.95    10.51  1.64   6.23   6.50   21.86  1.48\n",
      "\n",
      "Summary statistics for adolescent cohort, BBI Algorithm\n",
      "\n",
      "Summarised cohort statistics (mean):\n",
      "    normo  hypo  hyper  S_hypo  S_hyper  lgbi   hgbi     ri  reward  fail\n",
      "id                                                                       \n",
      "0   97.83  0.00   2.17    0.00     0.00  0.30   2.82   3.12     0.0   0.0\n",
      "1   62.31  2.70  13.44    0.18    21.38  4.76  12.33  17.08     0.0   0.0\n",
      "2   56.45  0.00  41.80    0.00     1.75  0.20   7.93   8.13     0.0   0.0\n",
      "3   61.45  0.06  29.82    0.00     8.68  1.09   9.37  10.46     0.0   0.0\n",
      "4   67.33  0.00  26.89    0.00     5.78  0.11   7.18   7.29     0.0   0.0\n",
      "5   87.04  0.01  11.84    0.00     1.12  0.27   3.35   3.62     0.0   0.0\n",
      "6   65.42  0.03  10.96    0.00    23.59  0.99  13.66  14.65     0.0   0.0\n",
      "7   68.58  1.60  11.28    0.10    18.44  2.05  13.42  15.48     0.0   0.0\n",
      "8   72.90  0.03  23.22    0.00     3.85  0.91   6.74   7.65     0.0   0.0\n",
      "9   74.97  0.00  25.00    0.00     0.04  0.06   5.09   5.15     0.0   0.0\n",
      "\n",
      "Averaged cohort statistics:\n",
      "      normo  hypo  hyper  S_hypo  S_hyper  lgbi   hgbi     ri  reward  fail\n",
      "50%   67.71  0.00  16.32    0.00     4.69  0.43   7.56   7.93     0.0   0.0\n",
      "25%   63.54  0.00  11.11    0.00     0.00  0.09   5.04   5.21     0.0   0.0\n",
      "75%   76.39  0.00  27.43    0.00    18.40  1.40  12.26  14.10     0.0   0.0\n",
      "mean  71.43  0.44  19.64    0.03     8.46  1.07   8.19   9.26     0.0   0.0\n",
      "std   12.31  1.27  11.53    0.28     8.83  1.57   3.78   4.83     0.0   0.0\n"
     ]
    },
    {
     "data": {
      "text/plain": "      normo  hypo  hyper  S_hypo  S_hyper  lgbi   hgbi     ri  reward  fail\n50%   67.71  0.00  16.32    0.00     4.69  0.43   7.56   7.93     0.0   0.0\n25%   63.54  0.00  11.11    0.00     0.00  0.09   5.04   5.21     0.0   0.0\n75%   76.39  0.00  27.43    0.00    18.40  1.40  12.26  14.10     0.0   0.0\nmean  71.43  0.44  19.64    0.03     8.46  1.07   8.19   9.26     0.0   0.0\nstd   12.31  1.27  11.53    0.28     8.83  1.57   3.78   4.83     0.0   0.0",
      "text/html": "<div>\n<style scoped>\n    .dataframe tbody tr th:only-of-type {\n        vertical-align: middle;\n    }\n\n    .dataframe tbody tr th {\n        vertical-align: top;\n    }\n\n    .dataframe thead th {\n        text-align: right;\n    }\n</style>\n<table border=\"1\" class=\"dataframe\">\n  <thead>\n    <tr style=\"text-align: right;\">\n      <th></th>\n      <th>normo</th>\n      <th>hypo</th>\n      <th>hyper</th>\n      <th>S_hypo</th>\n      <th>S_hyper</th>\n      <th>lgbi</th>\n      <th>hgbi</th>\n      <th>ri</th>\n      <th>reward</th>\n      <th>fail</th>\n    </tr>\n  </thead>\n  <tbody>\n    <tr>\n      <th>50%</th>\n      <td>67.71</td>\n      <td>0.00</td>\n      <td>16.32</td>\n      <td>0.00</td>\n      <td>4.69</td>\n      <td>0.43</td>\n      <td>7.56</td>\n      <td>7.93</td>\n      <td>0.0</td>\n      <td>0.0</td>\n    </tr>\n    <tr>\n      <th>25%</th>\n      <td>63.54</td>\n      <td>0.00</td>\n      <td>11.11</td>\n      <td>0.00</td>\n      <td>0.00</td>\n      <td>0.09</td>\n      <td>5.04</td>\n      <td>5.21</td>\n      <td>0.0</td>\n      <td>0.0</td>\n    </tr>\n    <tr>\n      <th>75%</th>\n      <td>76.39</td>\n      <td>0.00</td>\n      <td>27.43</td>\n      <td>0.00</td>\n      <td>18.40</td>\n      <td>1.40</td>\n      <td>12.26</td>\n      <td>14.10</td>\n      <td>0.0</td>\n      <td>0.0</td>\n    </tr>\n    <tr>\n      <th>mean</th>\n      <td>71.43</td>\n      <td>0.44</td>\n      <td>19.64</td>\n      <td>0.03</td>\n      <td>8.46</td>\n      <td>1.07</td>\n      <td>8.19</td>\n      <td>9.26</td>\n      <td>0.0</td>\n      <td>0.0</td>\n    </tr>\n    <tr>\n      <th>std</th>\n      <td>12.31</td>\n      <td>1.27</td>\n      <td>11.53</td>\n      <td>0.28</td>\n      <td>8.83</td>\n      <td>1.57</td>\n      <td>3.78</td>\n      <td>4.83</td>\n      <td>0.0</td>\n      <td>0.0</td>\n    </tr>\n  </tbody>\n</table>\n</div>"
     },
     "execution_count": 6,
     "metadata": {},
     "output_type": "execute_result"
    }
   ],
   "source": [
    "# metrics and stats for RL agents and clinical, for a selected algorthm.\n",
    "# Check parameters to get more information being calculated.\n",
    "# Normal flow in the calculation: \n",
    "# For each subject, looking at 1500 simulations we calculate the metrics, you can get inter-quartile, mean, std etc.\n",
    "# Using the mean for each metric we calculate cohort level metrics and statistics \n",
    "    \n",
    "get_summary_stats(cohort=\"adolescent\", algo_type='rl', algorithm='G2P2C', algoAbbreviation='G', \n",
    "                  metric=['50%', '25%', '75%','mean', 'std'], \n",
    "                  verbose=False, show_res=True, sort=[False, 'hgbi'])\n",
    "\n",
    "get_summary_stats(cohort=\"adolescent\", algo_type='clinical', algorithm='BBI', algoAbbreviation='BBI', \n",
    "                  metric=['50%', '25%', '75%','mean', 'std'], \n",
    "                  verbose=False, show_res=True, sort=[False, 'hgbi'])\n",
    "\n"
   ]
  },
  {
   "cell_type": "code",
   "execution_count": 7,
   "id": "9a41397f",
   "metadata": {
    "ExecuteTime": {
     "end_time": "2024-07-10T22:25:38.510460Z",
     "start_time": "2024-07-10T22:13:30.190743Z"
    }
   },
   "outputs": [
    {
     "name": "stdout",
     "output_type": "stream",
     "text": [
      "\n",
      "Compare algorithm performance for the adolescent cohort\n",
      "       normo  hypo  hyper  S_hypo  S_hyper  lgbi   hgbi     ri  reward   fail\n",
      "Algo                                                                         \n",
      "BBI    71.43  0.44  19.64    0.03     8.46  1.07   8.19   9.26    0.00   0.00\n",
      "BBHE   70.23  0.20  20.36    0.01     9.20  0.69   8.46   9.15    0.00   0.00\n",
      "A2C    56.03  1.55  16.57    0.83    25.03  1.94  16.09  18.03  226.65  14.41\n",
      "SAC    65.62  6.26   9.99    6.85    11.27  8.46   8.49  16.95  107.18  82.06\n",
      "PPO    63.72  1.30  16.15    0.28    18.55  1.82  13.58  15.40  249.20   4.93\n",
      "G2P2C  64.33  1.07  16.74    0.17    17.69  1.65  13.45  15.10  254.33   1.48\n"
     ]
    },
    {
     "data": {
      "text/plain": "       normo  hypo  hyper  S_hypo  S_hyper  lgbi   hgbi     ri  reward   fail\nAlgo                                                                         \nBBI    71.43  0.44  19.64    0.03     8.46  1.07   8.19   9.26    0.00   0.00\nBBHE   70.23  0.20  20.36    0.01     9.20  0.69   8.46   9.15    0.00   0.00\nA2C    56.03  1.55  16.57    0.83    25.03  1.94  16.09  18.03  226.65  14.41\nSAC    65.62  6.26   9.99    6.85    11.27  8.46   8.49  16.95  107.18  82.06\nPPO    63.72  1.30  16.15    0.28    18.55  1.82  13.58  15.40  249.20   4.93\nG2P2C  64.33  1.07  16.74    0.17    17.69  1.65  13.45  15.10  254.33   1.48",
      "text/html": "<div>\n<style scoped>\n    .dataframe tbody tr th:only-of-type {\n        vertical-align: middle;\n    }\n\n    .dataframe tbody tr th {\n        vertical-align: top;\n    }\n\n    .dataframe thead th {\n        text-align: right;\n    }\n</style>\n<table border=\"1\" class=\"dataframe\">\n  <thead>\n    <tr style=\"text-align: right;\">\n      <th></th>\n      <th>normo</th>\n      <th>hypo</th>\n      <th>hyper</th>\n      <th>S_hypo</th>\n      <th>S_hyper</th>\n      <th>lgbi</th>\n      <th>hgbi</th>\n      <th>ri</th>\n      <th>reward</th>\n      <th>fail</th>\n    </tr>\n    <tr>\n      <th>Algo</th>\n      <th></th>\n      <th></th>\n      <th></th>\n      <th></th>\n      <th></th>\n      <th></th>\n      <th></th>\n      <th></th>\n      <th></th>\n      <th></th>\n    </tr>\n  </thead>\n  <tbody>\n    <tr>\n      <th>BBI</th>\n      <td>71.43</td>\n      <td>0.44</td>\n      <td>19.64</td>\n      <td>0.03</td>\n      <td>8.46</td>\n      <td>1.07</td>\n      <td>8.19</td>\n      <td>9.26</td>\n      <td>0.00</td>\n      <td>0.00</td>\n    </tr>\n    <tr>\n      <th>BBHE</th>\n      <td>70.23</td>\n      <td>0.20</td>\n      <td>20.36</td>\n      <td>0.01</td>\n      <td>9.20</td>\n      <td>0.69</td>\n      <td>8.46</td>\n      <td>9.15</td>\n      <td>0.00</td>\n      <td>0.00</td>\n    </tr>\n    <tr>\n      <th>A2C</th>\n      <td>56.03</td>\n      <td>1.55</td>\n      <td>16.57</td>\n      <td>0.83</td>\n      <td>25.03</td>\n      <td>1.94</td>\n      <td>16.09</td>\n      <td>18.03</td>\n      <td>226.65</td>\n      <td>14.41</td>\n    </tr>\n    <tr>\n      <th>SAC</th>\n      <td>65.62</td>\n      <td>6.26</td>\n      <td>9.99</td>\n      <td>6.85</td>\n      <td>11.27</td>\n      <td>8.46</td>\n      <td>8.49</td>\n      <td>16.95</td>\n      <td>107.18</td>\n      <td>82.06</td>\n    </tr>\n    <tr>\n      <th>PPO</th>\n      <td>63.72</td>\n      <td>1.30</td>\n      <td>16.15</td>\n      <td>0.28</td>\n      <td>18.55</td>\n      <td>1.82</td>\n      <td>13.58</td>\n      <td>15.40</td>\n      <td>249.20</td>\n      <td>4.93</td>\n    </tr>\n    <tr>\n      <th>G2P2C</th>\n      <td>64.33</td>\n      <td>1.07</td>\n      <td>16.74</td>\n      <td>0.17</td>\n      <td>17.69</td>\n      <td>1.65</td>\n      <td>13.45</td>\n      <td>15.10</td>\n      <td>254.33</td>\n      <td>1.48</td>\n    </tr>\n  </tbody>\n</table>\n</div>"
     },
     "execution_count": 7,
     "metadata": {},
     "output_type": "execute_result"
    }
   ],
   "source": [
    "# Adolescents\n",
    "compare_algorithms(cohort=\"adolescent\", \n",
    "                   algo_types= ['clinical', 'clinical','rl', 'rl', 'rl', 'rl'],\n",
    "                   algos=['BBI','BBHE','A2C','SAC','PPO', 'G2P2C'], \n",
    "                   abbreviations=['BBI','BBHE','A2C','SAC', 'P', 'G'])"
   ]
  },
  {
   "cell_type": "code",
   "execution_count": 8,
   "id": "df962398",
   "metadata": {
    "ExecuteTime": {
     "end_time": "2024-07-10T22:25:48.602709Z",
     "start_time": "2024-07-10T22:25:48.564701Z"
    }
   },
   "outputs": [
    {
     "ename": "FileNotFoundError",
     "evalue": "[Errno 2] No such file or directory: 'C:/Users/davet/Desktop/Thesis/G2P2C/results/adult/BBI/logs_worker_20_0.csv'",
     "output_type": "error",
     "traceback": [
      "\u001B[1;31m---------------------------------------------------------------------------\u001B[0m",
      "\u001B[1;31mFileNotFoundError\u001B[0m                         Traceback (most recent call last)",
      "\u001B[1;32m~\\AppData\\Local\\Temp/ipykernel_21044/3616164493.py\u001B[0m in \u001B[0;36m<module>\u001B[1;34m\u001B[0m\n\u001B[0;32m      1\u001B[0m \u001B[1;31m# Adults\u001B[0m\u001B[1;33m\u001B[0m\u001B[1;33m\u001B[0m\u001B[0m\n\u001B[1;32m----> 2\u001B[1;33m compare_algorithms(cohort=\"adult\", \n\u001B[0m\u001B[0;32m      3\u001B[0m                    \u001B[0malgo_types\u001B[0m\u001B[1;33m=\u001B[0m \u001B[1;33m[\u001B[0m\u001B[1;34m'clinical'\u001B[0m\u001B[1;33m,\u001B[0m \u001B[1;34m'clinical'\u001B[0m\u001B[1;33m,\u001B[0m\u001B[1;34m'rl'\u001B[0m\u001B[1;33m,\u001B[0m \u001B[1;34m'rl'\u001B[0m\u001B[1;33m,\u001B[0m \u001B[1;34m'rl'\u001B[0m\u001B[1;33m,\u001B[0m \u001B[1;34m'rl'\u001B[0m\u001B[1;33m]\u001B[0m\u001B[1;33m,\u001B[0m\u001B[1;33m\u001B[0m\u001B[1;33m\u001B[0m\u001B[0m\n\u001B[0;32m      4\u001B[0m                    \u001B[0malgos\u001B[0m\u001B[1;33m=\u001B[0m\u001B[1;33m[\u001B[0m\u001B[1;34m'BBI'\u001B[0m\u001B[1;33m,\u001B[0m\u001B[1;34m'BBHE'\u001B[0m\u001B[1;33m,\u001B[0m\u001B[1;34m'A2C'\u001B[0m\u001B[1;33m,\u001B[0m\u001B[1;34m'SAC'\u001B[0m\u001B[1;33m,\u001B[0m\u001B[1;34m'PPO'\u001B[0m\u001B[1;33m,\u001B[0m \u001B[1;34m'G2P2C'\u001B[0m\u001B[1;33m]\u001B[0m\u001B[1;33m,\u001B[0m\u001B[1;33m\u001B[0m\u001B[1;33m\u001B[0m\u001B[0m\n\u001B[0;32m      5\u001B[0m                    abbreviations=['BBI','BBHE','A2C','SAC', 'P', 'G'])\n",
      "\u001B[1;32mC:\\Users/davet/Desktop/Thesis/G2P2C\\visualiser\\statistics.py\u001B[0m in \u001B[0;36mcompare_algorithms\u001B[1;34m(cohort, algo_types, algos, abbreviations)\u001B[0m\n\u001B[0;32m    155\u001B[0m     \u001B[0mdfs\u001B[0m \u001B[1;33m=\u001B[0m \u001B[1;33m[\u001B[0m\u001B[1;33m]\u001B[0m\u001B[1;33m\u001B[0m\u001B[1;33m\u001B[0m\u001B[0m\n\u001B[0;32m    156\u001B[0m     \u001B[1;32mfor\u001B[0m \u001B[0mi\u001B[0m \u001B[1;32min\u001B[0m \u001B[0mrange\u001B[0m\u001B[1;33m(\u001B[0m\u001B[1;36m0\u001B[0m\u001B[1;33m,\u001B[0m \u001B[0mlen\u001B[0m\u001B[1;33m(\u001B[0m\u001B[0malgos\u001B[0m\u001B[1;33m)\u001B[0m\u001B[1;33m)\u001B[0m\u001B[1;33m:\u001B[0m\u001B[1;33m\u001B[0m\u001B[1;33m\u001B[0m\u001B[0m\n\u001B[1;32m--> 157\u001B[1;33m         df = get_summary_stats(cohort, algo_types[i], algorithm=algos[i], algoAbbreviation=abbreviations[i],\n\u001B[0m\u001B[0;32m    158\u001B[0m                       metric=['mean'], verbose=False, show_res=False, sort=[False, 'hgbi'])\n\u001B[0;32m    159\u001B[0m         \u001B[0mdf\u001B[0m\u001B[1;33m[\u001B[0m\u001B[1;34m'Algo'\u001B[0m\u001B[1;33m]\u001B[0m \u001B[1;33m=\u001B[0m \u001B[0malgos\u001B[0m\u001B[1;33m[\u001B[0m\u001B[0mi\u001B[0m\u001B[1;33m]\u001B[0m\u001B[1;33m\u001B[0m\u001B[1;33m\u001B[0m\u001B[0m\n",
      "\u001B[1;32mC:\\Users/davet/Desktop/Thesis/G2P2C\\visualiser\\statistics.py\u001B[0m in \u001B[0;36mget_summary_stats\u001B[1;34m(cohort, algo_type, algorithm, algoAbbreviation, metric, verbose, show_res, sort, subjects, seeds, n_trials)\u001B[0m\n\u001B[0;32m    112\u001B[0m                     \u001B[1;32melif\u001B[0m \u001B[0mcohort\u001B[0m \u001B[1;33m==\u001B[0m \u001B[1;34m'child'\u001B[0m\u001B[1;33m:\u001B[0m\u001B[1;33m\u001B[0m\u001B[1;33m\u001B[0m\u001B[0m\n\u001B[0;32m    113\u001B[0m                         \u001B[0mtest_i\u001B[0m \u001B[1;33m=\u001B[0m \u001B[1;34m'logs_worker_1'\u001B[0m\u001B[1;33m+\u001B[0m\u001B[0msub\u001B[0m\u001B[1;33m+\u001B[0m\u001B[1;34m'_'\u001B[0m\u001B[1;33m+\u001B[0m\u001B[0mstr\u001B[0m\u001B[1;33m(\u001B[0m\u001B[0mi\u001B[0m\u001B[1;33m)\u001B[0m\u001B[1;33m+\u001B[0m\u001B[1;34m'.csv'\u001B[0m\u001B[1;33m\u001B[0m\u001B[1;33m\u001B[0m\u001B[0m\n\u001B[1;32m--> 114\u001B[1;33m                     \u001B[0mdf\u001B[0m \u001B[1;33m=\u001B[0m \u001B[0mpd\u001B[0m\u001B[1;33m.\u001B[0m\u001B[0mread_csv\u001B[0m\u001B[1;33m(\u001B[0m\u001B[0mMAIN_PATH\u001B[0m \u001B[1;33m+\u001B[0m\u001B[0mFOLDER_PATH\u001B[0m\u001B[1;33m+\u001B[0m \u001B[1;34m'/'\u001B[0m\u001B[1;33m+\u001B[0m\u001B[0mtest_i\u001B[0m\u001B[1;33m,\u001B[0m \u001B[0mnames\u001B[0m\u001B[1;33m=\u001B[0m\u001B[1;33m[\u001B[0m\u001B[1;34m'cgm'\u001B[0m\u001B[1;33m,\u001B[0m \u001B[1;34m'meal'\u001B[0m\u001B[1;33m,\u001B[0m \u001B[1;34m'ins'\u001B[0m\u001B[1;33m,\u001B[0m \u001B[1;34m't'\u001B[0m\u001B[1;33m]\u001B[0m\u001B[1;33m)\u001B[0m\u001B[1;33m\u001B[0m\u001B[1;33m\u001B[0m\u001B[0m\n\u001B[0m\u001B[0;32m    115\u001B[0m \u001B[1;33m\u001B[0m\u001B[0m\n\u001B[0;32m    116\u001B[0m                 normo, hypo, sev_hypo, hyper, lgbi, hgbi, ri, sev_hyper = new_time_in_range(df['cgm'], df['meal'], df['ins'],\n",
      "\u001B[1;32m~\\Desktop\\Thesis\\G2P2C\\venv\\lib\\site-packages\\pandas\\util\\_decorators.py\u001B[0m in \u001B[0;36mwrapper\u001B[1;34m(*args, **kwargs)\u001B[0m\n\u001B[0;32m    309\u001B[0m                     \u001B[0mstacklevel\u001B[0m\u001B[1;33m=\u001B[0m\u001B[0mstacklevel\u001B[0m\u001B[1;33m,\u001B[0m\u001B[1;33m\u001B[0m\u001B[1;33m\u001B[0m\u001B[0m\n\u001B[0;32m    310\u001B[0m                 )\n\u001B[1;32m--> 311\u001B[1;33m             \u001B[1;32mreturn\u001B[0m \u001B[0mfunc\u001B[0m\u001B[1;33m(\u001B[0m\u001B[1;33m*\u001B[0m\u001B[0margs\u001B[0m\u001B[1;33m,\u001B[0m \u001B[1;33m**\u001B[0m\u001B[0mkwargs\u001B[0m\u001B[1;33m)\u001B[0m\u001B[1;33m\u001B[0m\u001B[1;33m\u001B[0m\u001B[0m\n\u001B[0m\u001B[0;32m    312\u001B[0m \u001B[1;33m\u001B[0m\u001B[0m\n\u001B[0;32m    313\u001B[0m         \u001B[1;32mreturn\u001B[0m \u001B[0mwrapper\u001B[0m\u001B[1;33m\u001B[0m\u001B[1;33m\u001B[0m\u001B[0m\n",
      "\u001B[1;32m~\\Desktop\\Thesis\\G2P2C\\venv\\lib\\site-packages\\pandas\\io\\parsers\\readers.py\u001B[0m in \u001B[0;36mread_csv\u001B[1;34m(filepath_or_buffer, sep, delimiter, header, names, index_col, usecols, squeeze, prefix, mangle_dupe_cols, dtype, engine, converters, true_values, false_values, skipinitialspace, skiprows, skipfooter, nrows, na_values, keep_default_na, na_filter, verbose, skip_blank_lines, parse_dates, infer_datetime_format, keep_date_col, date_parser, dayfirst, cache_dates, iterator, chunksize, compression, thousands, decimal, lineterminator, quotechar, quoting, doublequote, escapechar, comment, encoding, encoding_errors, dialect, error_bad_lines, warn_bad_lines, on_bad_lines, delim_whitespace, low_memory, memory_map, float_precision, storage_options)\u001B[0m\n\u001B[0;32m    584\u001B[0m     \u001B[0mkwds\u001B[0m\u001B[1;33m.\u001B[0m\u001B[0mupdate\u001B[0m\u001B[1;33m(\u001B[0m\u001B[0mkwds_defaults\u001B[0m\u001B[1;33m)\u001B[0m\u001B[1;33m\u001B[0m\u001B[1;33m\u001B[0m\u001B[0m\n\u001B[0;32m    585\u001B[0m \u001B[1;33m\u001B[0m\u001B[0m\n\u001B[1;32m--> 586\u001B[1;33m     \u001B[1;32mreturn\u001B[0m \u001B[0m_read\u001B[0m\u001B[1;33m(\u001B[0m\u001B[0mfilepath_or_buffer\u001B[0m\u001B[1;33m,\u001B[0m \u001B[0mkwds\u001B[0m\u001B[1;33m)\u001B[0m\u001B[1;33m\u001B[0m\u001B[1;33m\u001B[0m\u001B[0m\n\u001B[0m\u001B[0;32m    587\u001B[0m \u001B[1;33m\u001B[0m\u001B[0m\n\u001B[0;32m    588\u001B[0m \u001B[1;33m\u001B[0m\u001B[0m\n",
      "\u001B[1;32m~\\Desktop\\Thesis\\G2P2C\\venv\\lib\\site-packages\\pandas\\io\\parsers\\readers.py\u001B[0m in \u001B[0;36m_read\u001B[1;34m(filepath_or_buffer, kwds)\u001B[0m\n\u001B[0;32m    480\u001B[0m \u001B[1;33m\u001B[0m\u001B[0m\n\u001B[0;32m    481\u001B[0m     \u001B[1;31m# Create the parser.\u001B[0m\u001B[1;33m\u001B[0m\u001B[1;33m\u001B[0m\u001B[0m\n\u001B[1;32m--> 482\u001B[1;33m     \u001B[0mparser\u001B[0m \u001B[1;33m=\u001B[0m \u001B[0mTextFileReader\u001B[0m\u001B[1;33m(\u001B[0m\u001B[0mfilepath_or_buffer\u001B[0m\u001B[1;33m,\u001B[0m \u001B[1;33m**\u001B[0m\u001B[0mkwds\u001B[0m\u001B[1;33m)\u001B[0m\u001B[1;33m\u001B[0m\u001B[1;33m\u001B[0m\u001B[0m\n\u001B[0m\u001B[0;32m    483\u001B[0m \u001B[1;33m\u001B[0m\u001B[0m\n\u001B[0;32m    484\u001B[0m     \u001B[1;32mif\u001B[0m \u001B[0mchunksize\u001B[0m \u001B[1;32mor\u001B[0m \u001B[0miterator\u001B[0m\u001B[1;33m:\u001B[0m\u001B[1;33m\u001B[0m\u001B[1;33m\u001B[0m\u001B[0m\n",
      "\u001B[1;32m~\\Desktop\\Thesis\\G2P2C\\venv\\lib\\site-packages\\pandas\\io\\parsers\\readers.py\u001B[0m in \u001B[0;36m__init__\u001B[1;34m(self, f, engine, **kwds)\u001B[0m\n\u001B[0;32m    809\u001B[0m             \u001B[0mself\u001B[0m\u001B[1;33m.\u001B[0m\u001B[0moptions\u001B[0m\u001B[1;33m[\u001B[0m\u001B[1;34m\"has_index_names\"\u001B[0m\u001B[1;33m]\u001B[0m \u001B[1;33m=\u001B[0m \u001B[0mkwds\u001B[0m\u001B[1;33m[\u001B[0m\u001B[1;34m\"has_index_names\"\u001B[0m\u001B[1;33m]\u001B[0m\u001B[1;33m\u001B[0m\u001B[1;33m\u001B[0m\u001B[0m\n\u001B[0;32m    810\u001B[0m \u001B[1;33m\u001B[0m\u001B[0m\n\u001B[1;32m--> 811\u001B[1;33m         \u001B[0mself\u001B[0m\u001B[1;33m.\u001B[0m\u001B[0m_engine\u001B[0m \u001B[1;33m=\u001B[0m \u001B[0mself\u001B[0m\u001B[1;33m.\u001B[0m\u001B[0m_make_engine\u001B[0m\u001B[1;33m(\u001B[0m\u001B[0mself\u001B[0m\u001B[1;33m.\u001B[0m\u001B[0mengine\u001B[0m\u001B[1;33m)\u001B[0m\u001B[1;33m\u001B[0m\u001B[1;33m\u001B[0m\u001B[0m\n\u001B[0m\u001B[0;32m    812\u001B[0m \u001B[1;33m\u001B[0m\u001B[0m\n\u001B[0;32m    813\u001B[0m     \u001B[1;32mdef\u001B[0m \u001B[0mclose\u001B[0m\u001B[1;33m(\u001B[0m\u001B[0mself\u001B[0m\u001B[1;33m)\u001B[0m\u001B[1;33m:\u001B[0m\u001B[1;33m\u001B[0m\u001B[1;33m\u001B[0m\u001B[0m\n",
      "\u001B[1;32m~\\Desktop\\Thesis\\G2P2C\\venv\\lib\\site-packages\\pandas\\io\\parsers\\readers.py\u001B[0m in \u001B[0;36m_make_engine\u001B[1;34m(self, engine)\u001B[0m\n\u001B[0;32m   1038\u001B[0m             )\n\u001B[0;32m   1039\u001B[0m         \u001B[1;31m# error: Too many arguments for \"ParserBase\"\u001B[0m\u001B[1;33m\u001B[0m\u001B[1;33m\u001B[0m\u001B[0m\n\u001B[1;32m-> 1040\u001B[1;33m         \u001B[1;32mreturn\u001B[0m \u001B[0mmapping\u001B[0m\u001B[1;33m[\u001B[0m\u001B[0mengine\u001B[0m\u001B[1;33m]\u001B[0m\u001B[1;33m(\u001B[0m\u001B[0mself\u001B[0m\u001B[1;33m.\u001B[0m\u001B[0mf\u001B[0m\u001B[1;33m,\u001B[0m \u001B[1;33m**\u001B[0m\u001B[0mself\u001B[0m\u001B[1;33m.\u001B[0m\u001B[0moptions\u001B[0m\u001B[1;33m)\u001B[0m  \u001B[1;31m# type: ignore[call-arg]\u001B[0m\u001B[1;33m\u001B[0m\u001B[1;33m\u001B[0m\u001B[0m\n\u001B[0m\u001B[0;32m   1041\u001B[0m \u001B[1;33m\u001B[0m\u001B[0m\n\u001B[0;32m   1042\u001B[0m     \u001B[1;32mdef\u001B[0m \u001B[0m_failover_to_python\u001B[0m\u001B[1;33m(\u001B[0m\u001B[0mself\u001B[0m\u001B[1;33m)\u001B[0m\u001B[1;33m:\u001B[0m\u001B[1;33m\u001B[0m\u001B[1;33m\u001B[0m\u001B[0m\n",
      "\u001B[1;32m~\\Desktop\\Thesis\\G2P2C\\venv\\lib\\site-packages\\pandas\\io\\parsers\\c_parser_wrapper.py\u001B[0m in \u001B[0;36m__init__\u001B[1;34m(self, src, **kwds)\u001B[0m\n\u001B[0;32m     49\u001B[0m \u001B[1;33m\u001B[0m\u001B[0m\n\u001B[0;32m     50\u001B[0m         \u001B[1;31m# open handles\u001B[0m\u001B[1;33m\u001B[0m\u001B[1;33m\u001B[0m\u001B[0m\n\u001B[1;32m---> 51\u001B[1;33m         \u001B[0mself\u001B[0m\u001B[1;33m.\u001B[0m\u001B[0m_open_handles\u001B[0m\u001B[1;33m(\u001B[0m\u001B[0msrc\u001B[0m\u001B[1;33m,\u001B[0m \u001B[0mkwds\u001B[0m\u001B[1;33m)\u001B[0m\u001B[1;33m\u001B[0m\u001B[1;33m\u001B[0m\u001B[0m\n\u001B[0m\u001B[0;32m     52\u001B[0m         \u001B[1;32massert\u001B[0m \u001B[0mself\u001B[0m\u001B[1;33m.\u001B[0m\u001B[0mhandles\u001B[0m \u001B[1;32mis\u001B[0m \u001B[1;32mnot\u001B[0m \u001B[1;32mNone\u001B[0m\u001B[1;33m\u001B[0m\u001B[1;33m\u001B[0m\u001B[0m\n\u001B[0;32m     53\u001B[0m \u001B[1;33m\u001B[0m\u001B[0m\n",
      "\u001B[1;32m~\\Desktop\\Thesis\\G2P2C\\venv\\lib\\site-packages\\pandas\\io\\parsers\\base_parser.py\u001B[0m in \u001B[0;36m_open_handles\u001B[1;34m(self, src, kwds)\u001B[0m\n\u001B[0;32m    220\u001B[0m         \u001B[0mLet\u001B[0m \u001B[0mthe\u001B[0m \u001B[0mreaders\u001B[0m \u001B[0mopen\u001B[0m \u001B[0mIOHandles\u001B[0m \u001B[0mafter\u001B[0m \u001B[0mthey\u001B[0m \u001B[0mare\u001B[0m \u001B[0mdone\u001B[0m \u001B[1;32mwith\u001B[0m \u001B[0mtheir\u001B[0m \u001B[0mpotential\u001B[0m \u001B[0mraises\u001B[0m\u001B[1;33m.\u001B[0m\u001B[1;33m\u001B[0m\u001B[1;33m\u001B[0m\u001B[0m\n\u001B[0;32m    221\u001B[0m         \"\"\"\n\u001B[1;32m--> 222\u001B[1;33m         self.handles = get_handle(\n\u001B[0m\u001B[0;32m    223\u001B[0m             \u001B[0msrc\u001B[0m\u001B[1;33m,\u001B[0m\u001B[1;33m\u001B[0m\u001B[1;33m\u001B[0m\u001B[0m\n\u001B[0;32m    224\u001B[0m             \u001B[1;34m\"r\"\u001B[0m\u001B[1;33m,\u001B[0m\u001B[1;33m\u001B[0m\u001B[1;33m\u001B[0m\u001B[0m\n",
      "\u001B[1;32m~\\Desktop\\Thesis\\G2P2C\\venv\\lib\\site-packages\\pandas\\io\\common.py\u001B[0m in \u001B[0;36mget_handle\u001B[1;34m(path_or_buf, mode, encoding, compression, memory_map, is_text, errors, storage_options)\u001B[0m\n\u001B[0;32m    700\u001B[0m         \u001B[1;32mif\u001B[0m \u001B[0mioargs\u001B[0m\u001B[1;33m.\u001B[0m\u001B[0mencoding\u001B[0m \u001B[1;32mand\u001B[0m \u001B[1;34m\"b\"\u001B[0m \u001B[1;32mnot\u001B[0m \u001B[1;32min\u001B[0m \u001B[0mioargs\u001B[0m\u001B[1;33m.\u001B[0m\u001B[0mmode\u001B[0m\u001B[1;33m:\u001B[0m\u001B[1;33m\u001B[0m\u001B[1;33m\u001B[0m\u001B[0m\n\u001B[0;32m    701\u001B[0m             \u001B[1;31m# Encoding\u001B[0m\u001B[1;33m\u001B[0m\u001B[1;33m\u001B[0m\u001B[0m\n\u001B[1;32m--> 702\u001B[1;33m             handle = open(\n\u001B[0m\u001B[0;32m    703\u001B[0m                 \u001B[0mhandle\u001B[0m\u001B[1;33m,\u001B[0m\u001B[1;33m\u001B[0m\u001B[1;33m\u001B[0m\u001B[0m\n\u001B[0;32m    704\u001B[0m                 \u001B[0mioargs\u001B[0m\u001B[1;33m.\u001B[0m\u001B[0mmode\u001B[0m\u001B[1;33m,\u001B[0m\u001B[1;33m\u001B[0m\u001B[1;33m\u001B[0m\u001B[0m\n",
      "\u001B[1;31mFileNotFoundError\u001B[0m: [Errno 2] No such file or directory: 'C:/Users/davet/Desktop/Thesis/G2P2C/results/adult/BBI/logs_worker_20_0.csv'"
     ]
    }
   ],
   "source": [
    "# Adults\n",
    "compare_algorithms(cohort=\"adult\", \n",
    "                   algo_types= ['clinical', 'clinical','rl', 'rl', 'rl', 'rl'],\n",
    "                   algos=['BBI','BBHE','A2C','SAC','PPO', 'G2P2C'], \n",
    "                   abbreviations=['BBI','BBHE','A2C','SAC', 'P', 'G'])"
   ]
  },
  {
   "cell_type": "code",
   "execution_count": null,
   "id": "076b5f73",
   "metadata": {},
   "outputs": [],
   "source": []
  }
 ],
 "metadata": {
  "kernelspec": {
   "display_name": "Python 3 (ipykernel)",
   "language": "python",
   "name": "python3"
  },
  "language_info": {
   "codemirror_mode": {
    "name": "ipython",
    "version": 3
   },
   "file_extension": ".py",
   "mimetype": "text/x-python",
   "name": "python",
   "nbconvert_exporter": "python",
   "pygments_lexer": "ipython3",
   "version": "3.10.12"
  }
 },
 "nbformat": 4,
 "nbformat_minor": 5
}
