{
 "cells": [
  {
   "cell_type": "code",
   "execution_count": 31,
   "id": "ef447fdb",
   "metadata": {},
   "outputs": [
    {
     "name": "stdout",
     "output_type": "stream",
     "text": [
      "Sample Size: 1570.733\n"
     ]
    }
   ],
   "source": [
    "# estimate sample size via power analysis\n",
    "from statsmodels.stats.power import TTestIndPower\n",
    "# parameters for power analysis\n",
    "effect = 0.1\n",
    "alpha = 0.05\n",
    "power = 0.80\n",
    "# perform power analysis\n",
    "analysis = TTestIndPower()\n",
    "result = analysis.solve_power(effect, power=power, nobs1=None, ratio=1.0, alpha=alpha)\n",
    "print('Sample Size: %.3f' % result)\n",
    " \n",
    "#r = 0.049 == d = 0.099    \n",
    "# r=0.07 == d=0.014\n",
    "# r=0.1 == d=0.2\n",
    "# r=0.243 == d=0.5\n",
    "# r= 0.371 == d = 0.8\n",
    "# r == 0.6 == d=1.5\n",
    "# r == 805 == d = 2.72"
   ]
  },
  {
   "cell_type": "code",
   "execution_count": 3,
   "id": "0088a63e",
   "metadata": {},
   "outputs": [
    {
     "name": "stdout",
     "output_type": "stream",
     "text": [
      "SBB vs G cohort\n",
      "0.08926989862209994\n",
      "SBBHE vs G cohort\n",
      "0.1431713197536434\n"
     ]
    }
   ],
   "source": [
    "# effect size = Z/ sqrt(N)\n",
    "import math\n",
    "\n",
    "# P vs A - 'Reward'\n",
    "# Z = [-3.841, -2.813, 10.026, -13.178, 16.689, 10.588, 5.788, 13.880, 5.885, -20.383]\n",
    "\n",
    "# P vs G - 'Reward'\n",
    "# Z = [18.491, 7.802, 23.935, 11.665, 28.015, 16.462, 11.858, 11.908, 10.656, -3.363]\n",
    "\n",
    "# A vs G - 'Reward'\n",
    "#Z = [21.528, 11.811, 16.921, 25.682, 14.729, 6.802, 5.612, -0.266, 5.542, 19.130]\n",
    "\n",
    "# P vs G - 'normo'\n",
    "#Z = [17.616, 7.688, 19.524, 9.953, 26.998, 16.277, 11.660, 11.806, 5.230, -3.897]\n",
    "\n",
    "\n",
    "# SBB vs G - 'normo'\n",
    "#Z = [-36.969, 39.998, -21.997, -41.006, 20.664, -25.982, -37.234, -2.765, 41.526, 25.420]\n",
    "\n",
    "# SBBHE vs G - 'normo'\n",
    "# Z = [-40.575, 35.522, -25.816, -42.868, 11.801, -33.840, -37.148, -6.313, 38.399, 20.311]\n",
    "\n",
    "# adolescent P vs G reward\n",
    "Z = [0.405, -16.277, -2.564, -23.016, 0.213, -11.736, -24.176, -9.573, 5.109, -10.106]\n",
    "\n",
    "\n",
    "# adult SBBHE vs G reward\n",
    "#Z = [-40.575, 35.522, -25.816, -42.868, 11.801, -33.840, -37.148, -6.313, 38.399, 20.311]\n",
    "\n",
    "# adolescent SBBHE vs G reward\n",
    "Z = [-47.459, 47.303, 27.819, -28.235, 47.432, -47.035, 15.379, 47.240, -20.606, 45.709]\n",
    "\n",
    "\n",
    "N = 3000\n",
    "# for sub in range(0, 10):\n",
    "#     effect = abs(Z[sub]) / math.sqrt(3000)\n",
    "#     print(sub)\n",
    "#     print(round(effect, 2))\n",
    "#     print('\\n')\n",
    "    \n",
    "#cohort,  P<.001, reject null hypothesis, SBB\n",
    "print('SBB vs G cohort')\n",
    "Z = -15.462\n",
    "effect = abs(Z) / math.sqrt(30000)\n",
    "print(effect)\n",
    "\n",
    "# cohort,  P<.001, reject null hypothesis, SBBHE\n",
    "print('SBBHE vs G cohort')\n",
    "Z = -24.798\n",
    "effect = abs(Z) / math.sqrt(30000)\n",
    "print(effect)\n"
   ]
  },
  {
   "cell_type": "code",
   "execution_count": 48,
   "id": "343c21ca",
   "metadata": {},
   "outputs": [
    {
     "name": "stdout",
     "output_type": "stream",
     "text": [
      "adol pid\n",
      "0.6817\n",
      "0.126\n",
      "adol sac\n",
      "0.622\n",
      "0.1999\n",
      "adult pid\n",
      "0.6823\n",
      "0.1473\n",
      "adult sac\n",
      "0.6593\n",
      "0.1729\n"
     ]
    }
   ],
   "source": [
    "import statistics\n",
    "\n",
    "print('adol pid')\n",
    "adol_pid = [0.686, 0.604, 0.807, 0.509, 0.835, 0.865, 0.530, 0.580, 0.710, 0.691]\n",
    "print(round(statistics.mean(adol_pid),4))\n",
    "print(round(statistics.stdev(adol_pid),4))\n",
    "\n",
    "print('adol sac')\n",
    "adol_sac = [0.517, 0.613, 0.616, 0.345, 0.825, 0.894, 0.670, 0.712, 0.266, 0.762]\n",
    "print(round(statistics.mean(adol_sac),4))\n",
    "print(round(statistics.stdev(adol_sac),4))\n",
    "\n",
    "print('adult pid')\n",
    "adult_pid= [0.641, 0.569, 0.609, 0.866, 0.767, 0.549, 0.425, 0.806, 0.726, 0.865]\n",
    "print(round(statistics.mean(adult_pid),4))\n",
    "print(round(statistics.stdev(adult_pid),4))\n",
    "\n",
    "print('adult sac')\n",
    "adult_sac= [0.590, 0.486, 0.898, 0.599, 0.837, 0.750, 0.351, 0.646, 0.592, 0.844]\n",
    "print(round(statistics.mean(adult_sac),4))\n",
    "print(round(statistics.stdev(adult_sac),4))\n",
    "\n",
    "# print(statistics.mean(adol_pid))\n",
    "# comb_pid = adol_pid + adult_pid\n",
    "# comb_pid = adol_sac + adult_sac\n",
    "# print(statistics.mean(comb_pid))"
   ]
  },
  {
   "cell_type": "code",
   "execution_count": null,
   "id": "575255ce",
   "metadata": {},
   "outputs": [],
   "source": []
  }
 ],
 "metadata": {
  "kernelspec": {
   "display_name": "Python 3 (ipykernel)",
   "language": "python",
   "name": "python3"
  },
  "language_info": {
   "codemirror_mode": {
    "name": "ipython",
    "version": 3
   },
   "file_extension": ".py",
   "mimetype": "text/x-python",
   "name": "python",
   "nbconvert_exporter": "python",
   "pygments_lexer": "ipython3",
   "version": "3.8.10"
  }
 },
 "nbformat": 4,
 "nbformat_minor": 5
}
